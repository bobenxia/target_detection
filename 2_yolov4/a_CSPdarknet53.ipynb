{
 "cells": [
  {
   "cell_type": "markdown",
   "id": "egyptian-malta",
   "metadata": {},
   "source": [
    "定义CSPdarknet53基本骨架网络"
   ]
  },
  {
   "cell_type": "code",
   "execution_count": 7,
   "id": "periodic-sound",
   "metadata": {},
   "outputs": [],
   "source": [
    "from functools import wraps\n",
    "\n",
    "from tensorflow.keras import backend as K\n",
    "from tensorflow.keras.layers import (Add, BatchNormalization, Concatenate,\n",
    "                                     Conv2D, Layer, LeakyReLU, MaxPooling2D,\n",
    "                                     UpSampling2D, ZeroPadding2D)\n",
    "from tensorflow.keras.regularizers import l2"
   ]
  },
  {
   "cell_type": "markdown",
   "id": "senior-carry",
   "metadata": {},
   "source": [
    "网络架构图：\n",
    "\n",
    "<img src=\"https://pic3.zhimg.com/80/v2-139a50003c09efe54b2db906710f6252_1440w.jpg\" alt=\"img\" style=\"zoom:50%;\" />\n",
    "\n",
    "基本组件：\n",
    "1. **CBM：**Yolov4网络结构中的最小组件，由Conv+Bn+Mish激活函数三者组成。\n",
    "2. **CBL：**由Conv+Bn+Leaky_relu激活函数三者组成。\n",
    "3. **Res unit：**借鉴Resnet网络中的残差结构，让网络可以构建的更深。\n",
    "4. **CSPX：**借鉴CSPNet网络结构，由卷积层和X个Res unint模块Concate组成。\n"
   ]
  },
  {
   "cell_type": "markdown",
   "id": "radical-intelligence",
   "metadata": {},
   "source": [
    "### 定义 compose 函数\n",
    "使用Python的Lambda表达式，顺次执行函数列表，且前一个函数的输出是后一个函数的输入。compose函数适用于在神经网络中连接两个层。"
   ]
  },
  {
   "cell_type": "code",
   "execution_count": 13,
   "id": "cardiac-leather",
   "metadata": {},
   "outputs": [],
   "source": [
    "def compose(*funcs):\n",
    "    if funcs:\n",
    "        return reduce(lambda f, g: lambda *a, **kw: g(f(*a, **kw)), funcs)\n",
    "    else:\n",
    "        raise ValueError('Composition of empty sequence not supported.')"
   ]
  },
  {
   "cell_type": "markdown",
   "id": "naked-sheffield",
   "metadata": {},
   "source": [
    "### 定义 Mish 激活函数"
   ]
  },
  {
   "cell_type": "code",
   "execution_count": 15,
   "id": "identified-slope",
   "metadata": {
    "tags": []
   },
   "outputs": [],
   "source": [
    "class Mish(Layer):\n",
    "    def __init__(self, **kwargs):\n",
    "        super(Mish, self).__init__(**kwargs)\n",
    "        self.supports_masking = True\n",
    "        \n",
    "    def call(self, x):\n",
    "        return x * K.tanh(K.softplus(x))\n",
    "    \n",
    "    def get_config(self):\n",
    "        config = super(Mish, self).get_config()\n",
    "        return config\n",
    "    \n",
    "    def compute_output_shape(self, input_shape):\n",
    "        return input_shape"
   ]
  },
  {
   "cell_type": "markdown",
   "id": "adult-wages",
   "metadata": {},
   "source": [
    "### 定义DarknetConv2D\n"
   ]
  },
  {
   "cell_type": "code",
   "execution_count": 16,
   "id": "another-lottery",
   "metadata": {},
   "outputs": [],
   "source": [
    "@wraps(Conv2D)\n",
    "def DarknetConv2D(*args, **kwargs):\n",
    "    \"\"\"Wrapper to set Darknet parameters for Convolution2D.\"\"\"\n",
    "    \n",
    "    darknet_conv_kwargs = {'kernel_regularizer': l2(5e-4)}    \n",
    "    darknet_conv_kwargs['padding'] = 'valid' if kwargs.get('strides')==(2,2) else 'same'\n",
    "    darknet_conv_kwargs.update(kwargs)\n",
    "    return Conv2D(*args, **darknet_conv_kwargs)"
   ]
  },
  {
   "cell_type": "markdown",
   "id": "private-collar",
   "metadata": {},
   "source": [
    "### 定义CBM 基本模块"
   ]
  },
  {
   "cell_type": "code",
   "execution_count": 17,
   "id": "closed-nickname",
   "metadata": {},
   "outputs": [],
   "source": [
    "def DarknetConv2D_BN_Mish(*args, **kwargs):\n",
    "    \"\"\"Darknet Convolution2D followed by BatchNormalization and Mish.\"\"\"\n",
    "    \n",
    "    no_bias_kwargs = {'use_bias': False}  # 没懂为啥用 no_bias\n",
    "    no_bias_kwargs.update(kwargs)\n",
    "    return compose(\n",
    "        DarknetConv2D(*args, **no_bias_kwargs),\n",
    "        BatchNormalization(),\n",
    "        Mish()\n",
    "    )"
   ]
  },
  {
   "cell_type": "markdown",
   "id": "related-benchmark",
   "metadata": {},
   "source": [
    "### 定义 CSP 结构块"
   ]
  },
  {
   "cell_type": "code",
   "execution_count": 18,
   "id": "constant-black",
   "metadata": {},
   "outputs": [],
   "source": [
    "def CSP_Block(x, num_filters, num_blocks, all_narrow=True):\n",
    "    # 填充x的边界为0，由(?, 416, 416, 32)转换为(?, 417, 417, 32)。\n",
    "    # 因为下一步卷积操作的步长为2，所以图的边长需要是奇数。\n",
    "    # 对高和宽进行压缩\n",
    "    x = ZeroPadding2D(((1, 0), (1, 0)))(x)\n",
    "    x = DarknetConv2D_BN_Mish(num_filters, (3,3), strides=(2,2))(x)\n",
    "    \n",
    "    # 残差\n",
    "    x_1 = DarknetConv2D_BN_Mish(num_filters//2 if all_narrow else num_filters, (1,1))(x)\n",
    "    \n",
    "    # 主干\n",
    "    x_2 = DarknetConv2D_BN_Mish(num_filters//2 if all_narrow else num_filters, (1,1))(x)\n",
    "    for i in range(num_blocks):\n",
    "        x_blocks = compose(\n",
    "                DarknetConv2D_BN_Mish(num_filters//2, (1,1)),\n",
    "                DarknetConv2D_BN_Mish(num_filters//2 if all_narrow else num_filters, (3,3)))(x_2)\n",
    "        x_2 = Add()([x_2, x_blocks])\n",
    "    x_2 = DarknetConv2D_BN_Mish(num_filters//2 if all_narrow else num_filters, (1,1))(x_2)\n",
    "    \n",
    "    # 主干、残差汇合\n",
    "    x = Concatenate()([x_2, x_1])\n",
    "    \n",
    "    return DarknetConv2D_BN_Mish(num_filters,(1,1))(x)"
   ]
  },
  {
   "cell_type": "markdown",
   "id": "conventional-tennessee",
   "metadata": {},
   "source": [
    "### 定义 CSP_darknet53 主体"
   ]
  },
  {
   "cell_type": "code",
   "execution_count": 19,
   "id": "decreased-processor",
   "metadata": {},
   "outputs": [],
   "source": [
    "def darknet_body(x):\n",
    "    x = DarknetConv2D_BN_Mish(32, (3,3))(x)\n",
    "    x = resblock_body(x, 64, 1, False)\n",
    "    x = resblock_body(x, 128, 2)\n",
    "    x = resblock_body(x, 256, 8)\n",
    "    feat1 = x\n",
    "    x = resblock_body(x, 512, 8)\n",
    "    feat2 = x\n",
    "    x = resblock_body(x, 1024, 4)\n",
    "    feat3 = x\n",
    "    return feat1,feat2,feat3"
   ]
  },
  {
   "cell_type": "code",
   "execution_count": null,
   "id": "enclosed-diagnosis",
   "metadata": {},
   "outputs": [],
   "source": []
  }
 ],
 "metadata": {
  "kernelspec": {
   "display_name": "Python 3",
   "language": "python",
   "name": "python3"
  },
  "language_info": {
   "codemirror_mode": {
    "name": "ipython",
    "version": 3
   },
   "file_extension": ".py",
   "mimetype": "text/x-python",
   "name": "python",
   "nbconvert_exporter": "python",
   "pygments_lexer": "ipython3",
   "version": "3.7.10"
  }
 },
 "nbformat": 4,
 "nbformat_minor": 5
}
