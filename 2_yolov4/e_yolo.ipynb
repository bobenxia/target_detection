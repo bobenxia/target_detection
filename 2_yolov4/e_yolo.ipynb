{
 "cells": [
  {
   "cell_type": "code",
   "execution_count": 1,
   "id": "prostate-shakespeare",
   "metadata": {},
   "outputs": [
    {
     "name": "stdout",
     "output_type": "stream",
     "text": [
      "importing Jupyter notebook from a_csp_darknet53.ipynb\n",
      "importing Jupyter notebook from z_layers.ipynb\n",
      "importing Jupyter notebook from b_yolov4_neck.ipynb\n",
      "importing Jupyter notebook from c_yolov4_head_keras.ipynb\n",
      "importing Jupyter notebook from d_prediction.ipynb\n",
      "importing Jupyter notebook from f_utils.ipynb\n"
     ]
    }
   ],
   "source": [
    "import Ipynb_importer\n",
    "from a_csp_darknet53  import *\n",
    "from b_yolov4_neck import *\n",
    "from c_yolov4_head_keras import *\n",
    "from d_prediction import *\n",
    "from e_model import *\n",
    "from f_utils import *"
   ]
  },
  {
   "cell_type": "code",
   "execution_count": 3,
   "id": "outside-probe",
   "metadata": {},
   "outputs": [],
   "source": [
    "import os\n",
    "import time\n",
    "from tensorflow.keras.layers import Input, Lambda"
   ]
  },
  {
   "cell_type": "code",
   "execution_count": 3,
   "id": "shaped-reserve",
   "metadata": {},
   "outputs": [],
   "source": [
    "default_config = {\n",
    "        \"model_type\": 'tiny_yolo3_darknet',\n",
    "        \"weights_path\": os.path.join('weights', 'yolov3-tiny.h5'),\n",
    "        \"pruning_model\": False,\n",
    "        \"anchors_path\": os.path.join('configs', 'tiny_yolo3_anchors.txt'),\n",
    "        \"classes_path\": os.path.join('configs', 'coco_classes.txt'),\n",
    "        \"score\" : 0.1,\n",
    "        \"iou\" : 0.4,\n",
    "        \"model_image_size\" : (416, 416),\n",
    "        \"elim_grid_sense\": False,\n",
    "        \"gpu_num\" : 1,\n",
    "    }\n"
   ]
  },
  {
   "cell_type": "code",
   "execution_count": 4,
   "id": "verbal-smith",
   "metadata": {},
   "outputs": [],
   "source": [
    "default_config = {\n",
    "        \"weights_path\"        : 'model_data/yolo4_weight.h5',\n",
    "        \"anchors_path\"     : 'model_data/yolo_anchors.txt',\n",
    "        \"classes_path\"      : 'model_data/coco_classes.txt',\n",
    "        \"score\"             : 0.5,\n",
    "        \"iou\"                  : 0.3,\n",
    "        \"eager\"             : False,\n",
    "        \"max_boxes\"         : 100,\n",
    "        # 显存比较小可以使用416x416\n",
    "        # 显存比较大可以使用608x608\n",
    "        \"model_image_size\"  : (416, 416),\n",
    "        #---------------------------------------------------------------------#\n",
    "        #   该变量用于控制是否使用letterbox_image对输入图像进行不失真的resize，\n",
    "        #   在多次测试后，发现关闭letterbox_image直接resize的效果更好\n",
    "        #---------------------------------------------------------------------#\n",
    "        \"letterbox_image\"   : False,\n",
    "    }"
   ]
  },
  {
   "cell_type": "code",
   "execution_count": 4,
   "id": "another-exclusive",
   "metadata": {},
   "outputs": [
    {
     "ename": "SyntaxError",
     "evalue": "invalid syntax (<ipython-input-4-a4a94f7fbf0a>, line 18)",
     "output_type": "error",
     "traceback": [
      "\u001b[0;36m  File \u001b[0;32m\"<ipython-input-4-a4a94f7fbf0a>\"\u001b[0;36m, line \u001b[0;32m18\u001b[0m\n\u001b[0;31m    'anchors':anchors,\u001b[0m\n\u001b[0m             ^\u001b[0m\n\u001b[0;31mSyntaxError\u001b[0m\u001b[0;31m:\u001b[0m invalid syntax\n"
     ]
    }
   ],
   "source": [
    "def get_yolo3_inference_model(model_type, anchors, num_classes, weights_path=None,\n",
    "                              input_shape=None, confidence=0.1, iou_threshold=0.4, elim_grid_sense=False):\n",
    "    \"\"\"create the inference model, for YOLOv3\"\"\"\n",
    "    num_anchors = len(anchors)\n",
    "    num_feature_layers = num_anchors //3\n",
    "    \n",
    "    image_shape = Input(shape=(2,), dtype='int64', name='image_shape')\n",
    "    # TODO: get_yolo3_mode\n",
    "    model_body, _ = get_yolo3_model(model_type, num_feature_layers, num_anchors, num_classes, input_shape=input_shape)\n",
    "    \n",
    "    if weights_path:\n",
    "        model_body.load_weights(weights_path, by_name=False)\n",
    "        print('Load weight {}'.format(weights_path))\n",
    "        \n",
    "    # TODO: batch_yolo_postprocess\n",
    "    boxes, scores, classes = Lambda(batch_yolo_postprocess, name='yolo3_postprocess',\n",
    "                                    arguments={\n",
    "                                        'anchors':anchors, \n",
    "                                        'num_classes':num_classes, \n",
    "                                        'confidence':confidence,\n",
    "                                        'iou_threshold': iou_threshold,\n",
    "                                        'elim_grid_sense':elim_grid_sense\n",
    "                                    })([*model_body.output, image_shape])\n",
    "    model = Model([model_body.input, image_shape], [boxes, scores, classes])\n",
    "    \n",
    "    return model\n",
    "    \n",
    "                                        "
   ]
  },
  {
   "cell_type": "code",
   "execution_count": null,
   "id": "careful-copying",
   "metadata": {},
   "outputs": [],
   "source": [
    "def YOLO(object):\n",
    "    _defaults = default_config\n",
    "    \n",
    "    # classmethod 修饰符对应的函数不需要实例化，不需要 self 参数，\n",
    "    # 但第一个参数需要是表示自身类的 cls 参数，可以来调用类的属性，类的方法，实例化对象等。\n",
    "    @classmethod\n",
    "    def get_defaults(cls, n):\n",
    "        if n in cls._defaults:\n",
    "            return cls._defaults[n]\n",
    "        else:\n",
    "            return \"Unrecognized attribute name' \" + n + \" ' \" \n",
    "        \n",
    "    def __init__(self, **kwargs):\n",
    "        super(YOLO, self).__init__()\n",
    "        self.__dict__.update(self._defaults)  # 还能这样？\n",
    "        self.__dict__.update(kwargs)  # update with user overrides\n",
    "        self.class_names = get_classes(self.classes_path)\n",
    "        self.anchors = get_anchors(self.anchors_path)\n",
    "        self.colors = get_colors(self.class_names)\n",
    "        self.inference_mode = self._generate_model()\n",
    "    \n",
    "    def _generate_model(self):\n",
    "        ''''''\n",
    "        weights_path = os.path.expanduser(self.weights_path)\n",
    "        assert weights_path.endswith('.h5'), 'Keras model or weights must be a .h5 file.'\n",
    "        \n",
    "        # 先验框数量和种类数量\n",
    "        num_anchors = len(self.anchors)\n",
    "        num_classes = len(self.class_names)\n",
    "        \n",
    "        # 载入模型\n",
    "        # TODO: get_yolo3_inference_model\n",
    "        inference_model = get_yolo3_inference_model(Input(shape=(None,None,3)), num_anchors//3, num_classes)\n",
    "        \n",
    "        inference_model.summary()\n",
    "        return inference_model\n",
    "    \n",
    "    \n",
    "    def predict(self, image_data, image_shape):\n",
    "        out_boxes, out_scores, out_classes = self.inference_model.predict([image_data, Image_shape])\n",
    "        \n",
    "        out_boxes = out_boxes[0]\n",
    "        out_scores = out_scores[0]\n",
    "        out_classes = out_classes[0]\n",
    "        \n",
    "        out_boxes = out_boxes.astype(np.int32)\n",
    "        out_classes = out_classes.astype(np.int32)\n",
    "        return out_boxes, out_classes, out_scores\n",
    "        \n",
    "        \n",
    "    def detect_image(self, image):\n",
    "        if self.model_image_size != (None, None):\n",
    "            assert self.model_image_size[0]%32 == 0, 'Multiples of 32 required'\n",
    "            assert self.model_image_size[1]%32 == 0, 'Multiples of 32 required'\n",
    "            \n",
    "        image_data = preprocess_image(image, self.model_image_size)\n",
    "        \n",
    "        # \n",
    "        image_shape = np.array([image.size[1], image.size[0]])\n",
    "        image_shape = np.expand_dims(image_shape, 0)\n",
    "        \n",
    "        start = time.time()\n",
    "        out_boxes, out_classes, out_scores = self.predict(image_data, image_shape)\n",
    "        end = time.time()\n",
    "        \n",
    "        print('Found {} boxes for {}'.format(len(out_boxes), 'img'))\n",
    "        print(\"Inference time: {:.8f}s\".format(end - start))\n",
    "        \n",
    "        #draw result on input image\n",
    "        image_array = np.array(image, dtype='uint8')\n",
    "        image_array = draw_boxes(image_array, out_boxes, out_classes, out_scores, self.class_names, self.colors)\n",
    "\n",
    "        out_classnames = [self.class_names[c] for c in out_classes]\n",
    "        return Image.fromarray(image_array), out_boxes, out_classnames, out_scores\n",
    "    \n",
    "    \n",
    "    \n",
    "    "
   ]
  }
 ],
 "metadata": {
  "kernelspec": {
   "display_name": "Python 3",
   "language": "python",
   "name": "python3"
  },
  "language_info": {
   "codemirror_mode": {
    "name": "ipython",
    "version": 3
   },
   "file_extension": ".py",
   "mimetype": "text/x-python",
   "name": "python",
   "nbconvert_exporter": "python",
   "pygments_lexer": "ipython3",
   "version": "3.7.10"
  }
 },
 "nbformat": 4,
 "nbformat_minor": 5
}
