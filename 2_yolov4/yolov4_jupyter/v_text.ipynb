{
 "cells": [
  {
   "cell_type": "code",
   "execution_count": 1,
   "id": "inner-discrimination",
   "metadata": {},
   "outputs": [],
   "source": [
    "\n",
    "import xml.etree.ElementTree as ET\n",
    "import os, argparse\n",
    "import numpy as np\n",
    "from collections import OrderedDict"
   ]
  },
  {
   "cell_type": "code",
   "execution_count": 2,
   "id": "acceptable-psychology",
   "metadata": {},
   "outputs": [],
   "source": [
    "sets=[('2007', 'train'), ('2007', 'val'), ('2007', 'test')]\n",
    "classes = [\"aeroplane\", \"bicycle\", \"bird\", \"boat\", \"bottle\", \"bus\", \"car\", \"cat\", \"chair\", \"cow\", \"diningtable\", \"dog\", \"horse\", \"motorbike\", \"person\", \"pottedplant\", \"sheep\", \"sofa\", \"train\", \"tvmonitor\"]"
   ]
  },
  {
   "cell_type": "code",
   "execution_count": 3,
   "id": "personal-jonathan",
   "metadata": {},
   "outputs": [],
   "source": [
    "class_count = {}"
   ]
  },
  {
   "cell_type": "code",
   "execution_count": 4,
   "id": "helpful-answer",
   "metadata": {},
   "outputs": [],
   "source": [
    "def convert_annotation(dataset_path, year, image_id, list_file, include_difficult):\n",
    "    if_file = open('%s/VOC%S/Annotations/%s.xml'.format(dataset_path, year, image_id), encoding='utf-8')\n",
    "    tree = ET.parse(infile)\n",
    "    root = tree.getroot()\n",
    "    \n",
    "    for obj in root.iter('object'):\n",
    "        difficult = obj.find('difficult')\n",
    "        if difficult is None:\n",
    "            difficult = '0'\n",
    "        else:\n",
    "            difficult = difficult.text\n",
    "\n",
    "        class_name = obj.find('name').text\n",
    "        if class_name not in classes:\n",
    "            continue\n",
    "        if not include_difficult and int(difficult)==1:\n",
    "            continue\n",
    "        class_id = classes.index(class_name)\n",
    "        \n",
    "        # parse box coordinate to (xmin, ymin, xmax, ymax) format\n",
    "        xml_box = obj.find('bndbox')\n",
    "        box = (int(float(xml_box.find('xmin').text)), int(float(xml_box.find('ymin').text)), int(float(xml_box.find('xmax').text)), int(float(xml_box.find('ymax').text)))\n",
    "        # write box info to txt\n",
    "        list_file.write(\" \" + \",\".join([str(item) for item in box]) + ',' + str(class_id))\n",
    "        class_count[class_name] = class_count[class_name] + 1\n",
    "        "
   ]
  },
  {
   "cell_type": "code",
   "execution_count": 5,
   "id": "amended-clinton",
   "metadata": {},
   "outputs": [],
   "source": [
    "dataset_path = r'C:\\Users\\xia\\Documents\\datasets\\VOCdevkit'\n",
    "# get real path for dataset\n",
    "dataset_realpath = os.path.realpath(dataset_path)\n",
    "dataset_realpath\n",
    "year = '2007'\n",
    "image_set = 'test'\n",
    "output_path = r'C:\\Users\\xia\\Documents\\codes\\20210403_目标检测\\target_detection\\2_yolov4\\yolov4_pycharm\\outputs'"
   ]
  },
  {
   "cell_type": "code",
   "execution_count": 6,
   "id": "announced-memphis",
   "metadata": {},
   "outputs": [
    {
     "data": {
      "text/plain": [
       "['000001', '000002', '000003', '000004', '000006']"
      ]
     },
     "execution_count": 6,
     "metadata": {},
     "output_type": "execute_result"
    }
   ],
   "source": [
    "image_ids = open('%s/VOC%s/ImageSets/Main/%s.txt'%(dataset_realpath, year, image_set)).read().strip().split()\n",
    "image_ids[:5]"
   ]
  },
  {
   "cell_type": "code",
   "execution_count": 7,
   "id": "nuclear-isaac",
   "metadata": {},
   "outputs": [
    {
     "data": {
      "text/plain": [
       "<_io.TextIOWrapper name='2007_test.txt' mode='r' encoding='cp936'>"
      ]
     },
     "execution_count": 7,
     "metadata": {},
     "output_type": "execute_result"
    }
   ],
   "source": [
    "list_file = open('2007_test.txt', 'r')\n",
    "list_file"
   ]
  },
  {
   "cell_type": "code",
   "execution_count": 8,
   "id": "killing-slope",
   "metadata": {},
   "outputs": [],
   "source": [
    "def annotation_parse(annotation_lines, class_names):\n",
    "    '''\n",
    "    parse annotation lines to get image dict and ground truth class dict\n",
    "\n",
    "    image dict would be like:\n",
    "    annotation_records = {\n",
    "        '/path/to/000001.jpg': {'100,120,200,235':'dog', '85,63,156,128':'car', ...},\n",
    "        ...\n",
    "    }\n",
    "\n",
    "    ground truth class dict would be like:\n",
    "    classes_records = {\n",
    "        'car': [\n",
    "                ['000001.jpg','100,120,200,235'],\n",
    "                ['000002.jpg','85,63,156,128'],\n",
    "                ...\n",
    "               ],\n",
    "        ...\n",
    "    }\n",
    "    '''\n",
    "    annotation_records = OrderedDict()\n",
    "    classes_records = OrderedDict({class_name: [] for class_name in class_names})\n",
    "\n",
    "    for line in annotation_lines:\n",
    "        box_records = {}\n",
    "        image_name = line.split(' ')[0]\n",
    "        boxes = line.split(' ')[1:]\n",
    "        for box in boxes:\n",
    "            # strip box coordinate and class\n",
    "            class_name = class_names[int(box.split(',')[-1])]\n",
    "            coordinate = ','.join(box.split(',')[:-1])\n",
    "            box_records[coordinate] = class_name\n",
    "            # append or add ground truth class item\n",
    "            record = [os.path.basename(image_name), coordinate]\n",
    "            if class_name in classes_records:\n",
    "                classes_records[class_name].append(record)\n",
    "            else:\n",
    "                classes_records[class_name] = list([record])\n",
    "        annotation_records[image_name] = box_records\n",
    "\n",
    "    return annotation_records, classes_records"
   ]
  },
  {
   "cell_type": "code",
   "execution_count": 9,
   "id": "radio-palestine",
   "metadata": {},
   "outputs": [],
   "source": [
    "def get_dataset(annotation_file, shuffle=True):\n",
    "    with open(annotation_file) as f:\n",
    "        lines = f.readlines()\n",
    "        lines = [line.strip() for line in lines]\n",
    "\n",
    "    if shuffle:\n",
    "        np.random.seed(int(time.time()))\n",
    "        np.random.shuffle(lines)\n",
    "        #np.random.seed(None)\n",
    "\n",
    "    return lines"
   ]
  },
  {
   "cell_type": "code",
   "execution_count": 10,
   "id": "undefined-virtue",
   "metadata": {},
   "outputs": [
    {
     "data": {
      "text/plain": [
       "['C:\\\\Users\\\\xia\\\\Documents\\\\datasets\\\\VOCdevkit/VOC2007/JPEGImages/000001.jpg 48,240,195,371,11 8,12,352,498,14',\n",
       " 'C:\\\\Users\\\\xia\\\\Documents\\\\datasets\\\\VOCdevkit/VOC2007/JPEGImages/000002.jpg 139,200,207,301,18']"
      ]
     },
     "execution_count": 10,
     "metadata": {},
     "output_type": "execute_result"
    }
   ],
   "source": [
    "annotation_lines = get_dataset('2007_test.txt', shuffle=False)\n",
    "annotation_lines[:2]"
   ]
  },
  {
   "cell_type": "code",
   "execution_count": 11,
   "id": "outer-thermal",
   "metadata": {},
   "outputs": [],
   "source": [
    "annotation_records, gt_classes_records = annotation_parse(annotation_lines,classes)"
   ]
  },
  {
   "cell_type": "code",
   "execution_count": null,
   "id": "unlikely-butler",
   "metadata": {},
   "outputs": [],
   "source": [
    "annotation_records"
   ]
  },
  {
   "cell_type": "code",
   "execution_count": 20,
   "id": "willing-russia",
   "metadata": {},
   "outputs": [
    {
     "name": "stdout",
     "output_type": "stream",
     "text": [
      "['48,240,195,371,11', '8,12,352,498,14']\n"
     ]
    }
   ],
   "source": [
    "for line in annotation_lines:\n",
    "    box_records = {}\n",
    "    image_name = line.split(' ')[0]\n",
    "    boxes = line.split(' ')[1:]\n",
    "    print(boxes)\n",
    "    break"
   ]
  },
  {
   "cell_type": "code",
   "execution_count": null,
   "id": "unknown-pulse",
   "metadata": {},
   "outputs": [],
   "source": []
  }
 ],
 "metadata": {
  "kernelspec": {
   "display_name": "Python 3",
   "language": "python",
   "name": "python3"
  },
  "language_info": {
   "codemirror_mode": {
    "name": "ipython",
    "version": 3
   },
   "file_extension": ".py",
   "mimetype": "text/x-python",
   "name": "python",
   "nbconvert_exporter": "python",
   "pygments_lexer": "ipython3",
   "version": "3.7.10"
  }
 },
 "nbformat": 4,
 "nbformat_minor": 5
}
