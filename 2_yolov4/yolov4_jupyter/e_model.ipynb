{
 "cells": [
  {
   "cell_type": "code",
   "execution_count": 2,
   "id": "25a4f120",
   "metadata": {},
   "outputs": [
    {
     "name": "stdout",
     "output_type": "stream",
     "text": [
      "importing Jupyter notebook from d_prediction.ipynb\n"
     ]
    }
   ],
   "source": [
    "import Ipynb_importer\n",
    "from a_csp_darknet53  import *\n",
    "from b_yolov4_neck_and_body import *\n",
    "from c_yolov4_head_keras import *\n",
    "from d_prediction import *"
   ]
  },
  {
   "cell_type": "code",
   "execution_count": 6,
   "id": "d6791ae4",
   "metadata": {},
   "outputs": [],
   "source": [
    "from tensorflow.keras.layers import Input, Lambda\n",
    "from tensorflow.keras.models import Model\n",
    "from tensorflow.keras.optimizers import Adam"
   ]
  },
  {
   "cell_type": "code",
   "execution_count": 3,
   "id": "6c181278",
   "metadata": {},
   "outputs": [],
   "source": [
    "def get_yolo4_model(model_type,  num_anchors, num_classes, input_tensor=None, input_shape=None):\n",
    "    # prepare input tensor\n",
    "    if input_shape:\n",
    "        input_tensor = Input(shape=input_shape, name='image_input')\n",
    "        \n",
    "    if input_tensor is None:\n",
    "        input_tensor = Input(shape=(None, None, 3), name='image_input')\n",
    "        \n",
    "    model_function = yolo4_body\n",
    "    backbone_len = 250\n",
    "    weights_path = 'weights/cspdarknet53.h5'\n",
    "    \n",
    "    if weights_path:\n",
    "        model_body = model_function(input_tensor, num_anchors//3, num_classes, weights_path=weights_path)\n",
    "    else:\n",
    "        model_body = model_function(input_tensor, num_anchors//3, num_classes)\n",
    "        \n",
    "    return model_body, backbone_len\n",
    "    "
   ]
  },
  {
   "cell_type": "code",
   "execution_count": 4,
   "id": "4811fd18",
   "metadata": {},
   "outputs": [],
   "source": [
    "def get_yolo4_inference_model(model_type, anchors, num_classes, weights_path=None,\n",
    "                              input_shape=None, confidence=0.1, iou_threshold=0.4, elim_grid_sense=False):\n",
    "    \"\"\"create the inference model, for YOLOv4\"\"\"\n",
    "    num_anchors = len(anchors)\n",
    "    num_feature_layers = num_anchors //3\n",
    "    \n",
    "    image_shape = Input(shape=(2,), dtype='int64', name='image_shape')\n",
    "    model_body, _ = get_yolo4_model(model_type, num_feature_layers, num_anchors, num_classes, input_shape=input_shape)\n",
    "    \n",
    "    if weights_path:\n",
    "        model_body.load_weights(weights_path, by_name=False)\n",
    "        print('Load weight {}'.format(weights_path))\n",
    "        \n",
    "    boxes, scores, classes = Lambda(batch_yolo4_postprocess, name='yolo4_postprocess',\n",
    "                                    arguments={\n",
    "                                        'anchors':anchors, \n",
    "                                        'num_classes':num_classes, \n",
    "                                        'confidence':confidence,\n",
    "                                        'iou_threshold': iou_threshold,\n",
    "                                        'elim_grid_sense':elim_grid_sense\n",
    "                                    })([*model_body.output, image_shape])\n",
    "    model = Model([model_body.input, image_shape], [boxes, scores, classes])\n",
    "    \n",
    "    return model\n",
    "    \n",
    "                                        "
   ]
  },
  {
   "cell_type": "markdown",
   "id": "1f393c22",
   "metadata": {},
   "source": [
    "### 损失层\n",
    "> https://zhuanlan.zhihu.com/p/42081893\n",
    "\n",
    "在 Yolov3|4中，损失函数 yolo_loss 封装自定义 Lambad 的损失层中，作为模型的最后一层，参与训练。\n",
    "损失层 Lambda 的输入是已有模型的输出 yolo_body.output 和真值 y_true，输出是一个值，即损失值。\n",
    "\n",
    "损失层的核心逻辑位于 yolo_loss 中，yolo_loss 除了接收 Lambda 层的输入 yolo_body.output 和真值 y_true，还接收锚框 anchors、类别数  num_chasses 和 过滤阈值 ignore_thresh 等3个参数。\n",
    "\n",
    "其中，model_body.output是已有模型的预测值，y_true是真实值，两者的格式相同，如下：\n",
    "\n",
    "- model_body: [(?, 13, 13, 18), (?, 26, 26, 18), (?, 52, 52, 18)]、\n",
    "- y_true: [(?, 13, 13, 18), (?, 26, 26, 18), (?, 52, 52, 18)]"
   ]
  },
  {
   "cell_type": "code",
   "execution_count": null,
   "id": "873af89b",
   "metadata": {},
   "outputs": [],
   "source": [
    "def get_yolo4_train_model(model_type, anchors, num_classes, weights_path=None, freeze_level=1,\n",
    "                         optimizer=Adam(lr=1e-3, decay=0), label_smoothing=0, elim_grid_sense=False):\n",
    "    \"\"\"Create the training model, for YOLOv4\"\"\"\n",
    "    num_anchors = len(anchors)\n",
    "    num_feature_layers = num_anchors //3\n",
    "    \n",
    "    # feature map target value, so its shape should be like:\n",
    "    # [\n",
    "    #  (image_height/32, image_width/32, 3, num_classes+5),\n",
    "    #  (image_height/16, image_width/16, 3, num_classes+5),\n",
    "    #  (image_height/8, image_width/8, 3, num_classes+5)\n",
    "    # ]\n",
    "    y_true = [Input(shape=(None, None, 3, num_classes+5), name='y_true_{}'.format(l)) for l in range(num_feature_layers)]\n",
    "    \n",
    "    model_body, backbone_len = get_yolo4_model(model_type, num_feature_layers, num_anchors, num_classes)\n",
    "    print('Create model')\n",
    "    \n",
    "    if weights_path:\n",
    "        model_body.load_weights(weights_path, by_name=True)\n",
    "    \n",
    "    if freeze_level in [1,2]:\n",
    "        # Freeze the backbone part or freeze all but final feature map & input layers\n",
    "        num = (backbone_len, len(model_body.layers)-3)[freeze_level-1]  # 通过01选择前面或者后面的数 \n",
    "        for i in range(num):\n",
    "            model_body.layers[i].trainable = False\n",
    "            print('Freeze the first {} layers of total {} layers.'.format(num, len(model_body.layers)))\n",
    "    elif freeze_level == 0:\n",
    "        # unfreeze all layers.\n",
    "        for i in range(len(model_body.layers)):\n",
    "            model_body.layers[i].trainable = True\n",
    "        print('Unfree all of the layers. ')\n",
    "        \n",
    "    #TODO: yolo4_loss\n",
    "    model_loss, location_loss, confidence_loss, class_loss = Lambda(yolo3_loss, name='yolo_loss',\n",
    "                                                                   arguments={\n",
    "                                                                       'anchors': anchors, \n",
    "                                                                       'num_classes': num_classes, \n",
    "                                                                       'ignore_thresh': 0.5, \n",
    "                                                                       'label_smoothing': label_smoothing, \n",
    "                                                                       'elim_grid_sense': elim_grid_sense\n",
    "                                                                   })([*model_body.output, *y_true])\n",
    "    model = Model([model_body.input, *y_true], model_loss)\n",
    "    \n",
    "    loss_dict = {'location_loss':location_loss, 'confidence_loss':confidence_loss, 'class_loss':class_loss}\n",
    "    add_metrics(model, loss_dict)\n",
    "\n",
    "    model.compile(optimizer=optimizer, loss={\n",
    "        # use custom yolo_loss Lambda layer.\n",
    "        'yolo_loss': lambda y_true, y_pred: y_pred})\n",
    "\n",
    "    return model"
   ]
  }
 ],
 "metadata": {
  "kernelspec": {
   "display_name": "Python 3",
   "language": "python",
   "name": "python3"
  },
  "language_info": {
   "codemirror_mode": {
    "name": "ipython",
    "version": 3
   },
   "file_extension": ".py",
   "mimetype": "text/x-python",
   "name": "python",
   "nbconvert_exporter": "python",
   "pygments_lexer": "ipython3",
   "version": "3.6.9"
  }
 },
 "nbformat": 4,
 "nbformat_minor": 5
}
