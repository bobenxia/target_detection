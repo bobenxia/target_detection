{
 "cells": [
  {
   "cell_type": "code",
   "execution_count": 1,
   "id": "b45226c2",
   "metadata": {},
   "outputs": [],
   "source": [
    "import os\n",
    "import numpy as np\n",
    "import time\n",
    "import cv2, colorsys"
   ]
  },
  {
   "cell_type": "code",
   "execution_count": 2,
   "id": "521e6e03",
   "metadata": {},
   "outputs": [],
   "source": [
    "def get_classes(classes_path):\n",
    "    \"\"\"加载类名\"\"\"\n",
    "    classes_path = os.path.expanduser(classes_path)\n",
    "    with open(classes_path) as f:\n",
    "        class_names = f.readlines()\n",
    "    class_names = [c.strip() for c in class_names]  # 移除字符串头尾指定的字符（默认为空格或换行符）\n",
    "    return class_names"
   ]
  },
  {
   "cell_type": "code",
   "execution_count": 3,
   "id": "3b1a2e26",
   "metadata": {},
   "outputs": [],
   "source": [
    "def get_anchors(anchors_path):\n",
    "    \"\"\"加载先验框 anchors\"\"\"\n",
    "    anchors_path = os.path.expanduser(anchors_path)\n",
    "    with open(anchors_path) as f:\n",
    "        anchors = f.readlines()\n",
    "    anchors = [float(x) for x in anchors.split(',')]\n",
    "    return np.array(anchors).reshape(-1,2)"
   ]
  },
  {
   "cell_type": "code",
   "execution_count": 4,
   "id": "6d383cdc",
   "metadata": {},
   "outputs": [],
   "source": [
    "def _get_colors(class_names):\n",
    "    \"\"\"生成颜色标框\"\"\"\n",
    "    hsv_tuples = [(x / len(class_names), 1., 1.)\n",
    "              for x in range(len(class_names))]\n",
    "    colors = list(map(lambda x: colorsys.hsv_to_rgb(*x), hsv_tuples))\n",
    "    colors = list(\n",
    "        map(lambda x: (int(x[0] * 255), int(x[1] * 255), int(x[2] * 255)),\n",
    "            colors))\n",
    "    np.random.seed(10101)  # Fixed seed for consistent colors across runs.\n",
    "    np.random.shuffle(colors)  # Shuffle colors to decorrelate adjacent classes.\n",
    "    np.random.seed(None)  # Reset seed to default.]\n",
    "\n",
    "    return colors"
   ]
  },
  {
   "cell_type": "code",
   "execution_count": 5,
   "id": "a5566dc1",
   "metadata": {},
   "outputs": [],
   "source": [
    "def draw_label(image, text, color, coords):\n",
    "    font = cv2.FONT_HERSHEY_PLAIN\n",
    "    font_scale = 1.\n",
    "    (text_width, text_height) = cv2.getTextSize(text, font, fontScale=font_scale, thickness=1)[0]\n",
    "\n",
    "    padding = 5\n",
    "    rect_height = text_height + padding * 2\n",
    "    rect_width = text_width + padding * 2\n",
    "\n",
    "    (x, y) = coords\n",
    "\n",
    "    cv2.rectangle(image, (x, y), (x + rect_width, y - rect_height), color, cv2.FILLED)\n",
    "    cv2.putText(image, text, (x + padding, y - text_height + padding), font,\n",
    "                fontScale=font_scale,\n",
    "                color=(255, 255, 255),\n",
    "                lineType=cv2.LINE_AA)\n",
    "\n",
    "    return image"
   ]
  },
  {
   "cell_type": "code",
   "execution_count": 6,
   "id": "145369c6",
   "metadata": {},
   "outputs": [],
   "source": [
    "def draw_boxes(image, boxes, classes, scores, class_names, colors, show_score=True):\n",
    "    if boxes is None or len(boxes) == 0:\n",
    "        return image\n",
    "    if classes is None or len(classes) == 0:\n",
    "        return image\n",
    "\n",
    "    for box, cls, score in zip(boxes, classes, scores):\n",
    "        xmin, ymin, xmax, ymax = map(int, box)\n",
    "\n",
    "        class_name = class_names[cls]\n",
    "        if show_score:\n",
    "            label = '{} {:.2f}'.format(class_name, score)\n",
    "        else:\n",
    "            label = '{}'.format(class_name)\n",
    "        #print(label, (xmin, ymin), (xmax, ymax))\n",
    "\n",
    "        # if no color info, use black(0,0,0)\n",
    "        if colors == None:\n",
    "            color = (0,0,0)\n",
    "        else:\n",
    "            color = colors[cls]\n",
    "        cv2.rectangle(image, (xmin, ymin), (xmax, ymax), color, 1, cv2.LINE_AA)\n",
    "        image = draw_label(image, label, color, (xmin, ymin))\n",
    "\n",
    "    return image"
   ]
  }
 ],
 "metadata": {
  "kernelspec": {
   "display_name": "Python 3",
   "language": "python",
   "name": "python3"
  },
  "language_info": {
   "codemirror_mode": {
    "name": "ipython",
    "version": 3
   },
   "file_extension": ".py",
   "mimetype": "text/x-python",
   "name": "python",
   "nbconvert_exporter": "python",
   "pygments_lexer": "ipython3",
   "version": "3.6.9"
  }
 },
 "nbformat": 4,
 "nbformat_minor": 5
}
