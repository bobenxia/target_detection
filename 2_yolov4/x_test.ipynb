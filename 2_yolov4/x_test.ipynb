{
 "cells": [
  {
   "cell_type": "code",
   "execution_count": 1,
   "id": "coupled-gibraltar",
   "metadata": {},
   "outputs": [],
   "source": [
    "import tensorflow as tf"
   ]
  },
  {
   "cell_type": "code",
   "execution_count": 31,
   "id": "endangered-borough",
   "metadata": {},
   "outputs": [
    {
     "data": {
      "text/plain": [
       "19"
      ]
     },
     "execution_count": 31,
     "metadata": {},
     "output_type": "execute_result"
    }
   ],
   "source": [
    "output_size = 19\n",
    "output_size"
   ]
  },
  {
   "cell_type": "code",
   "execution_count": 32,
   "id": "affected-proof",
   "metadata": {},
   "outputs": [],
   "source": [
    "output_size_f = tf.cast(output_size, tf.float32)\n",
    "row = tf.range(output_size_f, dtype=tf.float32)\n",
    "col = tf.range(output_size_f, dtype=tf.float32)"
   ]
  },
  {
   "cell_type": "code",
   "execution_count": 33,
   "id": "lovely-respondent",
   "metadata": {},
   "outputs": [
    {
     "data": {
      "text/plain": [
       "<tf.Tensor: shape=(), dtype=float32, numpy=19.0>"
      ]
     },
     "execution_count": 33,
     "metadata": {},
     "output_type": "execute_result"
    }
   ],
   "source": [
    "output_size_f"
   ]
  },
  {
   "cell_type": "code",
   "execution_count": 34,
   "id": "animal-interpretation",
   "metadata": {},
   "outputs": [
    {
     "data": {
      "text/plain": [
       "<tf.Tensor: shape=(19,), dtype=float32, numpy=\n",
       "array([ 0.,  1.,  2.,  3.,  4.,  5.,  6.,  7.,  8.,  9., 10., 11., 12.,\n",
       "       13., 14., 15., 16., 17., 18.], dtype=float32)>"
      ]
     },
     "execution_count": 34,
     "metadata": {},
     "output_type": "execute_result"
    }
   ],
   "source": [
    "row"
   ]
  },
  {
   "cell_type": "code",
   "execution_count": 35,
   "id": "dense-lease",
   "metadata": {},
   "outputs": [
    {
     "data": {
      "text/plain": [
       "TensorShape([1, 19, 19, 1, 1])"
      ]
     },
     "execution_count": 35,
     "metadata": {},
     "output_type": "execute_result"
    }
   ],
   "source": [
    "rows = tf.tile(row[tf.newaxis, tf.newaxis, :, tf.newaxis, tf.newaxis], [1, output_size, 1, 1, 1])\n",
    "cols = tf.tile(col[tf.newaxis, :, tf.newaxis, tf.newaxis, tf.newaxis], [1, 1, output_size, 1, 1])\n",
    "rows.shape"
   ]
  },
  {
   "cell_type": "code",
   "execution_count": 36,
   "id": "dressed-percentage",
   "metadata": {},
   "outputs": [],
   "source": [
    "offset = tf.concat([rows, cols], -1)"
   ]
  },
  {
   "cell_type": "code",
   "execution_count": 37,
   "id": "packed-reform",
   "metadata": {},
   "outputs": [],
   "source": [
    "\n",
    "offset = tf.tile(offset, [16, 1, 1, 3, 1])"
   ]
  },
  {
   "cell_type": "code",
   "execution_count": 39,
   "id": "pregnant-connectivity",
   "metadata": {},
   "outputs": [
    {
     "data": {
      "text/plain": [
       "TensorShape([16, 19, 19, 3, 2])"
      ]
     },
     "execution_count": 39,
     "metadata": {},
     "output_type": "execute_result"
    }
   ],
   "source": [
    "offset.shape"
   ]
  },
  {
   "cell_type": "code",
   "execution_count": 29,
   "id": "synthetic-appliance",
   "metadata": {},
   "outputs": [
    {
     "data": {
      "text/plain": [
       "<tf.Tensor: shape=(2, 3, 1), dtype=float32, numpy=\n",
       "array([[[-1.1073239 ],\n",
       "        [ 0.6118456 ],\n",
       "        [-0.30330676]],\n",
       "\n",
       "       [[ 0.4392243 ],\n",
       "        [-1.839088  ],\n",
       "        [ 1.074497  ]]], dtype=float32)>"
      ]
     },
     "execution_count": 29,
     "metadata": {},
     "output_type": "execute_result"
    }
   ],
   "source": [
    "a = tf.random.normal((2,3,3))\n",
    "a[:,:,1:2]"
   ]
  },
  {
   "cell_type": "code",
   "execution_count": 40,
   "id": "exterior-brown",
   "metadata": {},
   "outputs": [
    {
     "data": {
      "text/plain": [
       "TensorShape([16, 768, 4])"
      ]
     },
     "execution_count": 40,
     "metadata": {},
     "output_type": "execute_result"
    }
   ],
   "source": [
    "pred_xyxy = tf.random.normal((16,768,4))\n",
    "pred_xyxy.shape"
   ]
  },
  {
   "cell_type": "code",
   "execution_count": 23,
   "id": "casual-princeton",
   "metadata": {},
   "outputs": [],
   "source": [
    "im_size = tf.constant([[44,64]])\n",
    "im_size = tf.tile(im_size,[16,1])"
   ]
  },
  {
   "cell_type": "code",
   "execution_count": 44,
   "id": "peripheral-sweden",
   "metadata": {},
   "outputs": [
    {
     "data": {
      "text/plain": [
       "TensorShape([16, 1])"
      ]
     },
     "execution_count": 44,
     "metadata": {},
     "output_type": "execute_result"
    }
   ],
   "source": [
    "_im_size_h = im_size[:, 0:1]\n",
    "_im_size_w = im_size[:, 1:2]\n",
    "_im_size_w.shape"
   ]
  },
  {
   "cell_type": "code",
   "execution_count": 45,
   "id": "broadband-ensemble",
   "metadata": {},
   "outputs": [
    {
     "data": {
      "text/plain": [
       "TensorShape([16, 2])"
      ]
     },
     "execution_count": 45,
     "metadata": {},
     "output_type": "execute_result"
    }
   ],
   "source": [
    "_im_size = tf.concat([_im_size_w, _im_size_h], 1)\n",
    "_im_size.shape"
   ]
  },
  {
   "cell_type": "code",
   "execution_count": 46,
   "id": "lucky-halloween",
   "metadata": {},
   "outputs": [
    {
     "data": {
      "text/plain": [
       "TensorShape([16, 1, 2])"
      ]
     },
     "execution_count": 46,
     "metadata": {},
     "output_type": "execute_result"
    }
   ],
   "source": [
    "_im_size = tf.reshape(_im_size, (-1, 1, 2))\n",
    "_im_size.shape"
   ]
  },
  {
   "cell_type": "code",
   "execution_count": 47,
   "id": "significant-cancellation",
   "metadata": {},
   "outputs": [
    {
     "data": {
      "text/plain": [
       "<tf.Tensor: shape=(16, 768, 2), dtype=int32, numpy=\n",
       "array([[[64, 44],\n",
       "        [64, 44],\n",
       "        [64, 44],\n",
       "        ...,\n",
       "        [64, 44],\n",
       "        [64, 44],\n",
       "        [64, 44]],\n",
       "\n",
       "       [[64, 44],\n",
       "        [64, 44],\n",
       "        [64, 44],\n",
       "        ...,\n",
       "        [64, 44],\n",
       "        [64, 44],\n",
       "        [64, 44]],\n",
       "\n",
       "       [[64, 44],\n",
       "        [64, 44],\n",
       "        [64, 44],\n",
       "        ...,\n",
       "        [64, 44],\n",
       "        [64, 44],\n",
       "        [64, 44]],\n",
       "\n",
       "       ...,\n",
       "\n",
       "       [[64, 44],\n",
       "        [64, 44],\n",
       "        [64, 44],\n",
       "        ...,\n",
       "        [64, 44],\n",
       "        [64, 44],\n",
       "        [64, 44]],\n",
       "\n",
       "       [[64, 44],\n",
       "        [64, 44],\n",
       "        [64, 44],\n",
       "        ...,\n",
       "        [64, 44],\n",
       "        [64, 44],\n",
       "        [64, 44]],\n",
       "\n",
       "       [[64, 44],\n",
       "        [64, 44],\n",
       "        [64, 44],\n",
       "        ...,\n",
       "        [64, 44],\n",
       "        [64, 44],\n",
       "        [64, 44]]])>"
      ]
     },
     "execution_count": 47,
     "metadata": {},
     "output_type": "execute_result"
    }
   ],
   "source": [
    "_im_size = tf.tile(_im_size, [1, tf.shape(pred_xyxy)[1], 1])\n",
    "_im_size"
   ]
  },
  {
   "cell_type": "code",
   "execution_count": 55,
   "id": "mounted-warehouse",
   "metadata": {},
   "outputs": [
    {
     "data": {
      "text/plain": [
       "<tf.Tensor: shape=(2,), dtype=float32, numpy=array([16., 16.], dtype=float32)>"
      ]
     },
     "execution_count": 55,
     "metadata": {},
     "output_type": "execute_result"
    }
   ],
   "source": [
    "feats = tf.random.normal((16,16,16,255))\n",
    "from keras import backend as K\n",
    "grid_shape = K.shape(feats)[1:3]\n",
    "K.cast(grid_shape[::1], K.dtype(feats))"
   ]
  },
  {
   "cell_type": "code",
   "execution_count": 56,
   "id": "bottom-relationship",
   "metadata": {},
   "outputs": [],
   "source": [
    "def yolo3_correct_boxes(box_xy, box_wh, input_shape, image_shape):\n",
    "    '''Get corrected boxes'''\n",
    "    input_shape = K.cast(input_shape, K.dtype(box_xy))\n",
    "    image_shape = K.cast(image_shape, K.dtype(box_xy))\n",
    "\n",
    "    #reshape the image_shape tensor to align with boxes dimension\n",
    "    image_shape = K.reshape(image_shape, [-1, 1, 1, 1, 2])\n",
    "\n",
    "    new_shape = K.round(image_shape * K.min(input_shape/image_shape))\n",
    "    offset = (input_shape-new_shape)/2./input_shape\n",
    "    scale = input_shape/new_shape\n",
    "    # reverse offset/scale to match (w,h) order\n",
    "    offset = offset[..., ::-1]\n",
    "    scale = scale[..., ::-1]\n",
    "\n",
    "    box_xy = (box_xy - offset) * scale\n",
    "    box_wh *= scale\n",
    "\n",
    "    box_mins = box_xy - (box_wh / 2.)\n",
    "    box_maxes = box_xy + (box_wh / 2.)\n",
    "    boxes =  K.concatenate([\n",
    "        box_mins[..., 0:1],  # x_min\n",
    "        box_mins[..., 1:2],  # y_min\n",
    "        box_maxes[..., 0:1],  # x_max\n",
    "        box_maxes[..., 1:2]  # y_max\n",
    "    ])\n",
    "\n",
    "    # Scale boxes back to original image shape.\n",
    "    image_wh = image_shape[..., ::-1]\n",
    "    boxes *= K.concatenate([image_wh, image_wh])\n",
    "    return boxes"
   ]
  },
  {
   "cell_type": "code",
   "execution_count": null,
   "id": "catholic-ribbon",
   "metadata": {},
   "outputs": [],
   "source": []
  }
 ],
 "metadata": {
  "kernelspec": {
   "display_name": "Python 3",
   "language": "python",
   "name": "python3"
  },
  "language_info": {
   "codemirror_mode": {
    "name": "ipython",
    "version": 3
   },
   "file_extension": ".py",
   "mimetype": "text/x-python",
   "name": "python",
   "nbconvert_exporter": "python",
   "pygments_lexer": "ipython3",
   "version": "3.7.10"
  }
 },
 "nbformat": 4,
 "nbformat_minor": 5
}
