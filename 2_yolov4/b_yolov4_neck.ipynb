{
 "cells": [
  {
   "cell_type": "code",
   "execution_count": 1,
   "id": "7cecf208",
   "metadata": {},
   "outputs": [
    {
     "name": "stdout",
     "output_type": "stream",
     "text": [
      "importing Jupyter notebook from a_csp_darknet53.ipynb\n"
     ]
    }
   ],
   "source": [
    "import Ipynb_importer\n",
    "from a_csp_darknet53  import *"
   ]
  },
  {
   "cell_type": "code",
   "execution_count": 4,
   "id": "09f2b609",
   "metadata": {},
   "outputs": [],
   "source": [
    "from functools import wraps\n",
    "\n",
    "import numpy as np\n",
    "import tensorflow as tf\n",
    "from tensorflow import keras\n",
    "from tensorflow.keras import backend as K\n",
    "from tensorflow.keras.layers import (Add, BatchNormalization, Concatenate,\n",
    "                                     Conv2D, LeakyReLU, MaxPooling2D,Reshape,\n",
    "                                     UpSampling2D, ZeroPadding2D)\n",
    "from tensorflow.keras.models import Model\n",
    "from tensorflow.keras.regularizers import l2"
   ]
  },
  {
   "cell_type": "markdown",
   "id": "af7ba448",
   "metadata": {},
   "source": [
    "### 定义CBL 基本模块"
   ]
  },
  {
   "cell_type": "code",
   "execution_count": 17,
   "id": "9eb83974",
   "metadata": {},
   "outputs": [],
   "source": [
    "def darknet_CBL(*args, **kwargs):\n",
    "    \"\"\"Darknet Convolution2D followed by BatchNormalization and LeakyReLU.\"\"\"\n",
    "    \n",
    "    no_bias_kwargs = {'use_bias': False}  # 没懂为啥用 no_bias\n",
    "    no_bias_kwargs.update(kwargs)\n",
    "    return compose(\n",
    "        DarknetConv2D(*args, **no_bias_kwargs),\n",
    "        BatchNormalization(),\n",
    "        LeakyReLU(alpha=0.1)\n",
    "    )"
   ]
  },
  {
   "cell_type": "markdown",
   "id": "8153cf91",
   "metadata": {},
   "source": [
    "### 定义 yolo neck\n",
    "<img src=\"https://pic3.zhimg.com/80/v2-5251e9c0784871a37c693d53f7d57f92_1440w.jpg\" alt=\"img\" style=\"zoom:50%;\" />"
   ]
  },
  {
   "cell_type": "code",
   "execution_count": null,
   "id": "ec9a72c1",
   "metadata": {},
   "outputs": [],
   "source": [
    "def yolov4_neck(inputs, num_anchors, num_classes):\n",
    "    # 通过CSPdarknet_body 获得三个有效特征层\n",
    "    feat1, feat2, feat3 = darknet_body(inputs)\n",
    "    \n",
    "    # p5  CBL*3\n",
    "    P5 = darknet_CBL(512, (1, 1))(feat3)\n",
    "    P5 = darknet_CBL(1024, (3, 3))(P5)\n",
    "    P5 = darknet_CBL(512, (1, 1))(P5)\n",
    "    # p5 使用了SPP结构，即不同尺度的最大池化后堆叠。\n",
    "    maxpool1 = MaxPooling2D(pool_size=(13, 13), strides=(1, 1), padding='same')(P5)\n",
    "    maxpool2 = MaxPooling2D(pool_size=(9, 9), strides=(1, 1), padding='same')(P5)\n",
    "    maxpool3 = MaxPooling2D(pool_size=(5, 5), strides=(1, 1), padding='same')(P5)\n",
    "    P5 = Concatenate()([maxpool1, maxpool2, maxpool3, P5])\n",
    "    # p5  CBL*3\n",
    "    P5 = darknet_CBL(512, (1, 1))(P5)\n",
    "    P5 = darknet_CBL(1024, (3, 3))(P5)\n",
    "    P5 = darknet_CBL(512, (1, 1))(P5)\n",
    "    \n",
    "    # p5 上采样与p4 实现 pan 结构，获得concatenate后的p4\n",
    "    P5_upsample = compose(darknet_CBL(256, (1,1)), UpSampling2D(2))(P5)\n",
    "    P4 = darknet_CBL(256, (1,1))(feat2)\n",
    "    P4 = Concatenate()([P4, P5_upsample])\n",
    "    \n",
    "    # p4 CBL*5\n",
    "    P4 = make_five_convs(P4,256)\n",
    "    \n",
    "    # p4 上采样与p3 实现 pan 结构，获得concatenate后的p3\n",
    "    P4_upsample = compose(darknet_CBL(128, (1,1)), UpSampling2D(2))(P4)\n",
    "    P3 = darknet_CBL(128, (1,1))(feat1)\n",
    "    P3 = Concatenate()([P3, P4_upsample])\n",
    "    # p3 CBL*5\n",
    "    P3 = make_five_convs(P3,128)\n",
    "    \n",
    "    # ---------------------------------------------------------------------------------------------------------- #\n",
    "    \n",
    "    # p3 输出\n",
    "    P3_output = darknet_CBL(256, (3,3))(P3)\n",
    "    P3_output = DarknetConv2D(num_anchors*(num_classes+5), (1,1), kernel_initializer=keras.initializers.RandomNormal(mean=0.0, stddev=0.01))(P3_output)\n",
    "\n",
    "    # p3 下采样与 p4 实现 FPN，获得 concatenate 后的 p4\n",
    "    P3_downsample = ZeroPadding2D(((1,0),(1,0)))(P3)\n",
    "    P3_downsample = darknet_CBL(256, (3,3), strides=(2,2))(P3_downsample)\n",
    "    P4 = Concatenate()([P3_downsample, P4])\n",
    "    # p4 CBL*5\n",
    "    P4 = make_five_convs(P4,256)\n",
    "    # p4 输出\n",
    "    P4_output = darknet_CBL(512, (3,3))(P4)\n",
    "    P4_output = DarknetConv2D(num_anchors*(num_classes+5), (1,1), kernel_initializer=keras.initializers.RandomNormal(mean=0.0, stddev=0.01))(P4_output)\n",
    "    \n",
    "    \n",
    "    # p4 下采样与 p5 实现 FPN，获得 concatenate 后的 p5\n",
    "    P4_downsample = ZeroPadding2D(((1,0),(1,0)))(P4)\n",
    "    P4_downsample = darknet_CBL(512, (3,3), strides=(2,2))(P4_downsample)\n",
    "    P5 = Concatenate()([P4_downsample, P5])\n",
    "    # p5 CBL*5\n",
    "    P5 = make_five_convs(P5,512)\n",
    "    # p5输出\n",
    "    P5_output = darknet_CBL(1024, (3,3))(P5)\n",
    "    P5_output = DarknetConv2D(num_anchors*(num_classes+5), (1,1), kernel_initializer=keras.initializers.RandomNormal(mean=0.0, stddev=0.01))(P5_output)\n",
    "\n",
    "    return Model(inputs, [P5_output, P4_output, P3_output])"
   ]
  },
  {
   "cell_type": "code",
   "execution_count": 2,
   "id": "a51f3799",
   "metadata": {},
   "outputs": [],
   "source": [
    "def yolov4_neck(inputs_shapes):\n",
    "    \"\"\"\n",
    "    Implements the neck of YOLOv4, including the SPP and the modified PAN.\n",
    "\n",
    "    Args:\n",
    "        input_shapes (List[Tuple[int]]): List of 3 tuples, which are the output shapes of the backbone.\n",
    "            For CSPDarknet53, those are: [(52, 52, 256), (26, 26, 512), (13, 13, 1024)] for a (416, 416) input.\n",
    "\n",
    "    Returns:\n",
    "        tf.keras.Model: Neck model\n",
    "    \"\"\"\n",
    "    input_1 = tf.keras.Input(shape=filter(None, input_shapes[0]))  # 52* 52* 256\n",
    "    input_2 = tf.keras.Input(shape=filter(None, input_shapes[1]))  # 26* 26* 512\n",
    "    input_3 = tf.keras.Input(shape=filter(None, input_shapes[2]))  # 13* 13* 1024\n",
    "    \n",
    "    # p5  CBL*3\n",
    "    P5 = darknet_CBL(512, (1, 1))(input_3)\n",
    "    P5 = darknet_CBL(1024, (3, 3))(P5)\n",
    "    P5 = darknet_CBL(512, (1, 1))(P5)\n",
    "    # p5 使用了SPP结构，即不同尺度的最大池化后堆叠。\n",
    "    maxpool1 = MaxPooling2D(pool_size=(13, 13), strides=(1, 1), padding='same')(P5)\n",
    "    maxpool2 = MaxPooling2D(pool_size=(9, 9), strides=(1, 1), padding='same')(P5)\n",
    "    maxpool3 = MaxPooling2D(pool_size=(5, 5), strides=(1, 1), padding='same')(P5)\n",
    "    ssp = Concatenate()([maxpool1, maxpool2, maxpool3, P5])\n",
    "    # p5  CBL*3\n",
    "    P5 = darknet_CBL(512, (1, 1))(ssp)\n",
    "    P5 = darknet_CBL(1024, (3, 3))(P5)\n",
    "    output_3 = darknet_CBL(512, (1, 1))(P5)  # 13* 13* 512\n",
    "    \n",
    "    # output_3 上采样与p4 实现 pan 结构，获得concatenate后的p4\n",
    "    P5_upsample = compose(darknet_CBL(256, (1,1)), UpSampling2D(2))(output_3)\n",
    "    P4 = darknet_CBL(256, (1,1))(input_2)\n",
    "    P4 = Concatenate()([P4, P5_upsample])\n",
    "    \n",
    "    # p4 CBL*5\n",
    "    output_2 = make_five_convs(P4,256)  # 26* 26* 256\n",
    "    \n",
    "    # output_2 上采样与p3 实现 pan 结构，获得concatenate后的p3\n",
    "    P4_upsample = compose(darknet_CBL(128, (1,1)), UpSampling2D(2))(output_2)\n",
    "    P3 = darknet_CBL(128, (1,1))(input_1)\n",
    "    P3 = Concatenate()([P3, P4_upsample])\n",
    "    # p3 CBL*5\n",
    "    output_1 = make_five_convs(P3,128)  # 52* 52* 128\n",
    "    \n",
    "    return tf.keras.Model(\n",
    "        [input_1, input_2, input_3], [output_1, output_2, output_3], name=\"YOLOv4_neck\"\n",
    "    )"
   ]
  },
  {
   "cell_type": "code",
   "execution_count": null,
   "id": "f225fd69",
   "metadata": {},
   "outputs": [],
   "source": []
  }
 ],
 "metadata": {
  "kernelspec": {
   "display_name": "Python 3",
   "language": "python",
   "name": "python3"
  },
  "language_info": {
   "codemirror_mode": {
    "name": "ipython",
    "version": 3
   },
   "file_extension": ".py",
   "mimetype": "text/x-python",
   "name": "python",
   "nbconvert_exporter": "python",
   "pygments_lexer": "ipython3",
   "version": "3.6.9"
  }
 },
 "nbformat": 4,
 "nbformat_minor": 5
}
