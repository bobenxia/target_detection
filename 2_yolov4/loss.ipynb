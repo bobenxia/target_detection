{
 "cells": [
  {
   "cell_type": "code",
   "execution_count": null,
   "id": "954122ed",
   "metadata": {},
   "outputs": [],
   "source": [
    "def yolo_loss(args, anchors):\n",
    "    # 一共有三层\n",
    "    num_layers = len(anchors)//3\n",
    "    #---------------------------------------------------------------------------------------------------#\n",
    "    #   将预测结果和实际ground truth分开，args是[*model_body.output, *y_true]\n",
    "    #   y_true是一个列表，包含三个特征层，shape分别为(m,13,13,3,85),(m,26,26,3,85),(m,52,52,3,85)。\n",
    "    #   yolo_outputs是一个列表，包含三个特征层，shape分别为(m,13,13,3,85),(m,26,26,3,85),(m,52,52,3,85)。\n",
    "    #---------------------------------------------------------------------------------------------------#\n",
    "    y_true = args[num_layers:]\n",
    "    yolo_outputs = args[:num_layers]\n",
    "    #-----------------------------------------------------------#\n",
    "    #   13x13的特征层对应的anchor是[142, 110], [192, 243], [459, 401]\n",
    "    #   26x26的特征层对应的anchor是[36, 75], [76, 55], [72, 146]\n",
    "    #   52x52的特征层对应的anchor是[12, 16], [19, 36], [40, 28]\n",
    "    #-----------------------------------------------------------#\n",
    "    anchor_mask = [[6,7,8], [3,4,5], [0,1,2]] if num_layers==3 else [[3,4,5], [1,2,3]]\n",
    "    # 得到input_shpae为416,416 \n",
    "    input_shape = K.cast(K.shape(yolo_outputs[0])[1:3] * 32, K.dtype(y_true[0]))\n",
    "    \n",
    "    loss = 0\n",
    "    num_pos = 0\n",
    "\n",
    "    #-----------------------------------------------------------#\n",
    "    #   取出每一张图片\n",
    "    #   m的值就是batch_size\n",
    "    #-----------------------------------------------------------#\n",
    "    m = K.shape(yolo_outputs[0])[0]\n",
    "    mf = K.cast(m, K.dtype(yolo_outputs[0]))\n",
    "    \n",
    "    for i in range(num_layers):\n",
    "        #-----------------------------------------------------------#\n",
    "        #   以第一个特征层(m,13,13,3,85)为例子\n",
    "        #   取出该特征层中存在目标的点的位置。(m,13,13,3,1)\n",
    "        #-----------------------------------------------------------#\n",
    "        object_mask = y_true[l][..., 4:5]\n",
    "        #-----------------------------------------------------------#\n",
    "        #   取出其对应的种类(m,13,13,3,80)\n",
    "        #-----------------------------------------------------------#\n",
    "        true_class_probs = y_true[l][..., 5:]"
   ]
  }
 ],
 "metadata": {
  "kernelspec": {
   "display_name": "Python 3",
   "language": "python",
   "name": "python3"
  },
  "language_info": {
   "codemirror_mode": {
    "name": "ipython",
    "version": 3
   },
   "file_extension": ".py",
   "mimetype": "text/x-python",
   "name": "python",
   "nbconvert_exporter": "python",
   "pygments_lexer": "ipython3",
   "version": "3.6.9"
  }
 },
 "nbformat": 4,
 "nbformat_minor": 5
}
