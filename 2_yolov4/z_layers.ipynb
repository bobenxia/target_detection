{
 "cells": [
  {
   "cell_type": "code",
   "execution_count": 1,
   "id": "african-poker",
   "metadata": {},
   "outputs": [],
   "source": [
    "from functools import wraps, reduce\n",
    "\n",
    "import tensorflow.keras.backend as K\n",
    "from tensorflow.keras.layers import Conv2D, DepthwiseConv2D, Concatenate, MaxPooling2D, BatchNormalization, Activation, UpSampling2D, ZeroPadding2D\n",
    "from tensorflow.keras.layers import LeakyReLU\n",
    "from tensorflow.keras.regularizers import l2\n",
    "\n",
    "#from common.backbones.layers import YoloConv2D, YoloDepthwiseConv2D, CustomBatchNormalization"
   ]
  },
  {
   "cell_type": "markdown",
   "id": "saving-denmark",
   "metadata": {},
   "source": [
    "### 定义 compose 函数\n",
    "使用Python的Lambda表达式，顺次执行函数列表，且前一个函数的输出是后一个函数的输入。compose函数适用于在神经网络中连接两个层。"
   ]
  },
  {
   "cell_type": "code",
   "execution_count": 2,
   "id": "dangerous-settle",
   "metadata": {},
   "outputs": [],
   "source": [
    "def compose(*funcs):\n",
    "    \"\"\"Compose arbitrarily many functions, evaluated left to right.\n",
    "\n",
    "    Reference: https://mathieularose.com/function-composition-in-python/\n",
    "    \"\"\"\n",
    "    if funcs:\n",
    "        return reduce(lambda f, g: lambda *a, **kw: g(f(*a, **kw)), funcs)\n",
    "    else:\n",
    "        raise ValueError('Composition of empty sequence not supported.')"
   ]
  },
  {
   "cell_type": "markdown",
   "id": "brilliant-reading",
   "metadata": {},
   "source": [
    "### 定义 Darknet_Conv2D\n"
   ]
  },
  {
   "cell_type": "code",
   "execution_count": 2,
   "id": "animated-reggae",
   "metadata": {},
   "outputs": [],
   "source": [
    "@wraps(Conv2D)\n",
    "def Darknet_Conv2D(*args, **kwargs):\n",
    "    \"\"\"Wrapper to set Darknet parameters for Convolution2D.\"\"\"\n",
    "    darknet_conv_kwargs = {'kernel_regularizer': l2(5e-4)}\n",
    "    darknet_conv_kwargs['bias_regularizer'] = l2(5e-4)\n",
    "    darknet_conv_kwargs['padding'] = 'valid' if kwargs.get('strides')==(2,2) else 'same'\n",
    "    darknet_conv_kwargs.update(kwargs)\n",
    "    return Conv2D(*args, **darknet_conv_kwargs)"
   ]
  },
  {
   "cell_type": "markdown",
   "id": "written-determination",
   "metadata": {},
   "source": [
    "### 定义 Mish 激活函数"
   ]
  },
  {
   "cell_type": "code",
   "execution_count": 3,
   "id": "sunrise-making",
   "metadata": {},
   "outputs": [],
   "source": [
    "def mish(x):\n",
    "    return x * K.tanh(K.softplus(x))"
   ]
  },
  {
   "cell_type": "markdown",
   "id": "economic-massachusetts",
   "metadata": {},
   "source": [
    "### 定义 Darknet_CBM"
   ]
  },
  {
   "cell_type": "code",
   "execution_count": 5,
   "id": "printable-three",
   "metadata": {},
   "outputs": [],
   "source": [
    "def Darknet_CBM(*args, **kwargs):\n",
    "    \"\"\"Darknet Convolution2D followed by BatchNormalization and Mish.\"\"\"\n",
    "    no_bias_kwargs = {'use_bias': False}  # 没懂为啥用 no_bias\n",
    "    no_bias_kwargs.update(kwargs)\n",
    "    return compose(\n",
    "        Darknet_Conv2D(*args, **no_bias_kwargs),\n",
    "        BatchNormalization(),\n",
    "        Mish()\n",
    "    )"
   ]
  },
  {
   "cell_type": "markdown",
   "id": "christian-architecture",
   "metadata": {},
   "source": [
    "### 定义 Darknet_CBL"
   ]
  },
  {
   "cell_type": "code",
   "execution_count": 17,
   "id": "desperate-mineral",
   "metadata": {},
   "outputs": [],
   "source": [
    "def Darknet_CBL(*args, **kwargs):\n",
    "    \"\"\"Darknet Convolution2D followed by BatchNormalization and LeakyReLU.\"\"\"\n",
    "    \n",
    "    no_bias_kwargs = {'use_bias': False}  # 没懂为啥用 no_bias\n",
    "    no_bias_kwargs.update(kwargs)\n",
    "    return compose(\n",
    "        Darknet_Conv2D(*args, **no_bias_kwargs),\n",
    "        BatchNormalization(),\n",
    "        LeakyReLU(alpha=0.1)\n",
    "    )"
   ]
  },
  {
   "cell_type": "markdown",
   "id": "approximate-stability",
   "metadata": {},
   "source": [
    "### 定义 Spp"
   ]
  },
  {
   "cell_type": "code",
   "execution_count": 3,
   "id": "wired-senator",
   "metadata": {},
   "outputs": [],
   "source": [
    "def Spp(x):\n",
    "    y1 = MaxPooling2D(pool_size=(5,5), strides=(1,1), padding='same')(x)\n",
    "    y2 = MaxPooling2D(pool_size=(9,9), strides=(1,1), padding='same')(x)\n",
    "    y3 = MaxPooling2D(pool_size=(13,13), strides=(1,1), padding='same')(x)\n",
    "    \n",
    "    y = Concatenate()([y3, y2, y1, x])\n",
    "    return y"
   ]
  },
  {
   "cell_type": "markdown",
   "id": "broken-norfolk",
   "metadata": {},
   "source": [
    "### 定义 make_five_darknet_CBL"
   ]
  },
  {
   "cell_type": "code",
   "execution_count": null,
   "id": "broadband-month",
   "metadata": {},
   "outputs": [],
   "source": [
    "def make_five_darknet_CBL(x, num_filters):\n",
    "    # 五次卷积\n",
    "    x = compose(\n",
    "            Darknet_Conv2D_BN_Leaky(num_filters, (1,1)),\n",
    "            Darknet_Conv2D_BN_Leaky(num_filters*2, (3,3)),\n",
    "            Darknet_Conv2D_BN_Leaky(num_filters, (1,1)),\n",
    "            Darknet_Conv2D_BN_Leaky(num_filters*2, (3,3)),\n",
    "            Darknet_Conv2D_BN_Leaky(num_filters, (1,1)))(x)\n",
    "\n",
    "    return x"
   ]
  },
  {
   "cell_type": "markdown",
   "id": "wooden-domestic",
   "metadata": {},
   "source": [
    "### 定义 make_three_darknet_CBL"
   ]
  },
  {
   "cell_type": "code",
   "execution_count": 2,
   "id": "entertaining-output",
   "metadata": {},
   "outputs": [],
   "source": [
    "def make_three_darknet_CBL(x, num_filters):\n",
    "    # 三次卷积\n",
    "    x = compose(\n",
    "            Darknet_Conv2D_BN_Leaky(num_filters, (1,1)),\n",
    "            Darknet_Conv2D_BN_Leaky(num_filters*2, (3,3)),\n",
    "            Darknet_Conv2D_BN_Leaky(num_filters, (1,1)))(x)\n",
    "\n",
    "    return x"
   ]
  }
 ],
 "metadata": {
  "kernelspec": {
   "display_name": "Python 3",
   "language": "python",
   "name": "python3"
  },
  "language_info": {
   "codemirror_mode": {
    "name": "ipython",
    "version": 3
   },
   "file_extension": ".py",
   "mimetype": "text/x-python",
   "name": "python",
   "nbconvert_exporter": "python",
   "pygments_lexer": "ipython3",
   "version": "3.7.10"
  }
 },
 "nbformat": 4,
 "nbformat_minor": 5
}
