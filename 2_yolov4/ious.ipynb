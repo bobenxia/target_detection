{
 "cells": [
  {
   "cell_type": "code",
   "execution_count": 1,
   "id": "visible-alfred",
   "metadata": {},
   "outputs": [],
   "source": [
    "import math\n",
    "\n",
    "import tensorflow as tf\n",
    "from tensorflow.keras import backend as K"
   ]
  },
  {
   "cell_type": "code",
   "execution_count": 2,
   "id": "athletic-bryan",
   "metadata": {},
   "outputs": [],
   "source": [
    "def box_ciou(b1, b2):\n",
    "    \"\"\"\n",
    "    输入为：\n",
    "    ----------\n",
    "    b1: tensor, shape=(batch, feat_w, feat_h, anchor_num, 4), xywh\n",
    "    b2: tensor, shape=(batch, feat_w, feat_h, anchor_num, 4), xywh\n",
    "    返回为：\n",
    "    -------\n",
    "    ciou: tensor, shape=(batch, feat_w, feat_h, anchor_num, 1)\n",
    "    \"\"\"\n",
    "    # 求出预测框左上角右下角\n",
    "    b1_xy = b1[..., :2]\n",
    "    b1_wh = b1[..., 2:4]\n",
    "    b1_wh_half = b1_wh/2.\n",
    "    b1_mins = b1_xy - b1_wh_half\n",
    "    b1_maxes = b1_xy + b1_wh_half\n",
    "    # 求出真实框左上角右下角\n",
    "    b2_xy = b2[..., :2]\n",
    "    b2_wh = b2[..., 2:4]\n",
    "    b2_wh_half = b2_wh/2.\n",
    "    b2_mins = b2_xy - b2_wh_half\n",
    "    b2_maxes = b2_xy + b2_wh_half\n",
    "\n",
    "    # 求真实框和预测框所有的iou\n",
    "    intersect_mins = K.maximum(b1_mins, b2_mins)\n",
    "    intersect_maxes = K.minimum(b1_maxes, b2_maxes)\n",
    "    intersect_wh = K.maximum(intersect_maxes - intersect_mins, 0.)\n",
    "    intersect_area = intersect_wh[..., 0] * intersect_wh[..., 1]\n",
    "    b1_area = b1_wh[..., 0] * b1_wh[..., 1]\n",
    "    b2_area = b2_wh[..., 0] * b2_wh[..., 1]\n",
    "    union_area = b1_area + b2_area - intersect_area\n",
    "    iou = intersect_area / K.maximum(union_area,K.epsilon())\n",
    "\n",
    "    # 计算中心的差距\n",
    "    center_distance = K.sum(K.square(b1_xy - b2_xy), axis=-1)\n",
    "    # 找到包裹两个框的最小框的左上角和右下角\n",
    "    enclose_mins = K.minimum(b1_mins, b2_mins)\n",
    "    enclose_maxes = K.maximum(b1_maxes, b2_maxes)\n",
    "    enclose_wh = K.maximum(enclose_maxes - enclose_mins, 0.0)\n",
    "    # 计算对角线距离\n",
    "    enclose_diagonal = K.sum(K.square(enclose_wh), axis=-1)\n",
    "    ciou = iou - 1.0 * (center_distance) / K.maximum(enclose_diagonal ,K.epsilon())\n",
    "    \n",
    "    v = 4*K.square(tf.math.atan2(b1_wh[..., 0], K.maximum(b1_wh[..., 1],K.epsilon())) - tf.math.atan2(b2_wh[..., 0], K.maximum(b2_wh[..., 1],K.epsilon()))) / (math.pi * math.pi)\n",
    "    alpha = v /  K.maximum((1.0 - iou + v), K.epsilon())\n",
    "    ciou = ciou - alpha * v\n",
    "\n",
    "    ciou = K.expand_dims(ciou, -1)\n",
    "    ciou = tf.where(tf.math.is_nan(ciou), tf.zeros_like(ciou), ciou)\n",
    "    return ciou"
   ]
  },
  {
   "cell_type": "code",
   "execution_count": null,
   "id": "eastern-static",
   "metadata": {},
   "outputs": [],
   "source": []
  }
 ],
 "metadata": {
  "kernelspec": {
   "display_name": "Python 3",
   "language": "python",
   "name": "python3"
  },
  "language_info": {
   "codemirror_mode": {
    "name": "ipython",
    "version": 3
   },
   "file_extension": ".py",
   "mimetype": "text/x-python",
   "name": "python",
   "nbconvert_exporter": "python",
   "pygments_lexer": "ipython3",
   "version": "3.7.10"
  }
 },
 "nbformat": 4,
 "nbformat_minor": 5
}
