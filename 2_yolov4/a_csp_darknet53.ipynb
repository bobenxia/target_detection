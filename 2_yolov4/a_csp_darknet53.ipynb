{
 "cells": [
  {
   "cell_type": "code",
   "execution_count": 1,
   "id": "closed-burlington",
   "metadata": {},
   "outputs": [
    {
     "name": "stdout",
     "output_type": "stream",
     "text": [
      "importing Jupyter notebook from z_layers.ipynb\n"
     ]
    }
   ],
   "source": [
    "import Ipynb_importer\n",
    "from z_layers import *"
   ]
  },
  {
   "cell_type": "code",
   "execution_count": 1,
   "id": "ancient-nevada",
   "metadata": {},
   "outputs": [],
   "source": [
    "from functools import wraps\n",
    "\n",
    "from tensorflow.keras import backend as K\n",
    "from tensorflow.keras.models import Model\n",
    "from tensorflow.keras.layers import (Add, BatchNormalization, Concatenate,\n",
    "                                     Conv2D, Layer, LeakyReLU, MaxPooling2D,\n",
    "                                     UpSampling2D, ZeroPadding2D)\n",
    "from tensorflow.keras.regularizers import l2"
   ]
  },
  {
   "cell_type": "markdown",
   "id": "african-netherlands",
   "metadata": {},
   "source": [
    "网络架构图：\n",
    "\n",
    "<img src=\"https://pic3.zhimg.com/80/v2-139a50003c09efe54b2db906710f6252_1440w.jpg\" alt=\"img\" style=\"zoom:30%;\" />\n",
    "\n",
    "基本组件：\n",
    "1. **CBM：**Yolov4网络结构中的最小组件，由Conv+Bn+Mish激活函数三者组成。\n",
    "2. **CBL：**由Conv+Bn+Leaky_relu激活函数三者组成。\n",
    "3. **Res unit：**借鉴Resnet网络中的残差结构，让网络可以构建的更深。\n",
    "4. **CSPX：**借鉴CSPNet网络结构，由卷积层和X个Res unint模块Concate组成。\n"
   ]
  },
  {
   "cell_type": "markdown",
   "id": "monthly-freeze",
   "metadata": {},
   "source": [
    "## 1、定义 csp_resblock_body\n",
    "CSP 基本结构见上图"
   ]
  },
  {
   "cell_type": "code",
   "execution_count": 2,
   "id": "coordinate-weather",
   "metadata": {},
   "outputs": [],
   "source": [
    "def csp_resblock_body(x, num_filters, num_blocks, all_narrow=True):\n",
    "    '''A series of resblocks starting with a downsampling Convolution2D'''\n",
    "    # 填充x的边界为0，由(?, 416, 416, 32)转换为(?, 417, 417, 32)。\n",
    "    # 因为下一步卷积操作的步长为2，所以图的边长需要是奇数。\n",
    "    x = ZeroPadding2D(((1, 0), (1, 0)))(x)\n",
    "    # 第一个CBM对高和宽进行压缩\n",
    "    x = Darknet_CBM(num_filters, (3,3), strides=(2,2))(x)  # yoloz中只有卷积层，通过调节卷积步长控制输出特征图的尺寸\n",
    "\n",
    "    # 残差\n",
    "    res_connection = Darknet_CBM(num_filters//2 if all_narrow else num_filters, (1,1))(x)\n",
    "    # 主干\n",
    "    x = Darknet_CBM(num_filters//2 if all_narrow else num_filters, (1,1))(x)\n",
    "    for i in range(num_blocks):\n",
    "        x_blocks = compose(\n",
    "                Darknet_CBM(num_filters//2, (1,1)),\n",
    "                Darknet_CBM(num_filters//2 if all_narrow else num_filters, (3,3)))(x)\n",
    "        x = Add()([x, x_blocks])\n",
    "        \n",
    "    x = Darknet_CBM(num_filters//2 if all_narrow else num_filters, (1,1))(x)\n",
    "    x = Concatenate()([x, res_connection])  # 主干、残差汇合\n",
    "    x = Darknet_CBM(num_filters,(1,1))(x)\n",
    "    \n",
    "    return x"
   ]
  },
  {
   "cell_type": "markdown",
   "id": "comfortable-security",
   "metadata": {},
   "source": [
    "## 2、定义 csp_darknet53_body"
   ]
  },
  {
   "cell_type": "code",
   "execution_count": 3,
   "id": "infrared-blowing",
   "metadata": {},
   "outputs": [],
   "source": [
    "def csp_darknet53_body(x):\n",
    "    '''CSPDarknet53 body having 52 Convolution2D layers'''\n",
    "    x = Darknet_CBM(32, (3,3))(x)\n",
    "    x = csp_resblock_body(x, 64, 1, False)\n",
    "    x = csp_resblock_body(x, 128, 2)\n",
    "    x = csp_resblock_body(x, 256, 8)\n",
    "    x = csp_resblock_body(x, 512, 8)\n",
    "    x = csp_resblock_body(x, 1024, 4)\n",
    "    return x"
   ]
  }
 ],
 "metadata": {
  "kernelspec": {
   "display_name": "Python 3",
   "language": "python",
   "name": "python3"
  },
  "language_info": {
   "codemirror_mode": {
    "name": "ipython",
    "version": 3
   },
   "file_extension": ".py",
   "mimetype": "text/x-python",
   "name": "python",
   "nbconvert_exporter": "python",
   "pygments_lexer": "ipython3",
   "version": "3.7.10"
  }
 },
 "nbformat": 4,
 "nbformat_minor": 5
}
