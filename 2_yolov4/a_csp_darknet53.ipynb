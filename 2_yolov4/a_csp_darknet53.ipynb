{
 "cells": [
  {
   "cell_type": "markdown",
   "id": "09aa64a7",
   "metadata": {},
   "source": [
    "定义CSPdarknet53基本骨架网络"
   ]
  },
  {
   "cell_type": "code",
   "execution_count": 7,
   "id": "86fa73a6",
   "metadata": {},
   "outputs": [],
   "source": [
    "from functools import wraps\n",
    "\n",
    "from tensorflow.keras import backend as K\n",
    "from tensorflow.keras.layers import (Add, BatchNormalization, Concatenate,\n",
    "                                     Conv2D, Layer, LeakyReLU, MaxPooling2D,\n",
    "                                     UpSampling2D, ZeroPadding2D)\n",
    "from tensorflow.keras.regularizers import l2"
   ]
  },
  {
   "cell_type": "markdown",
   "id": "5f601730",
   "metadata": {},
   "source": [
    "网络架构图：\n",
    "\n",
    "<img src=\"https://pic3.zhimg.com/80/v2-139a50003c09efe54b2db906710f6252_1440w.jpg\" alt=\"img\" style=\"zoom:50%;\" />\n",
    "\n",
    "基本组件：\n",
    "1. **CBM：**Yolov4网络结构中的最小组件，由Conv+Bn+Mish激活函数三者组成。\n",
    "2. **CBL：**由Conv+Bn+Leaky_relu激活函数三者组成。\n",
    "3. **Res unit：**借鉴Resnet网络中的残差结构，让网络可以构建的更深。\n",
    "4. **CSPX：**借鉴CSPNet网络结构，由卷积层和X个Res unint模块Concate组成。\n"
   ]
  },
  {
   "cell_type": "markdown",
   "id": "a932a118",
   "metadata": {},
   "source": [
    "### 定义 compose 函数\n",
    "使用Python的Lambda表达式，顺次执行函数列表，且前一个函数的输出是后一个函数的输入。compose函数适用于在神经网络中连接两个层。"
   ]
  },
  {
   "cell_type": "code",
   "execution_count": 13,
   "id": "53b951f9",
   "metadata": {},
   "outputs": [],
   "source": [
    "def compose(*funcs):\n",
    "    if funcs:\n",
    "        return reduce(lambda f, g: lambda *a, **kw: g(f(*a, **kw)), funcs)\n",
    "    else:\n",
    "        raise ValueError('Composition of empty sequence not supported.')"
   ]
  },
  {
   "cell_type": "markdown",
   "id": "cf8ad9ae",
   "metadata": {},
   "source": [
    "### 定义 Mish 激活函数"
   ]
  },
  {
   "cell_type": "code",
   "execution_count": 15,
   "id": "010c26bc",
   "metadata": {
    "tags": []
   },
   "outputs": [],
   "source": [
    "class Mish(Layer):\n",
    "    def __init__(self, **kwargs):\n",
    "        super(Mish, self).__init__(**kwargs)\n",
    "        self.supports_masking = True\n",
    "        \n",
    "    def call(self, x):\n",
    "        return x * K.tanh(K.softplus(x))\n",
    "    \n",
    "    def get_config(self):\n",
    "        config = super(Mish, self).get_config()\n",
    "        return config\n",
    "    \n",
    "    def compute_output_shape(self, input_shape):\n",
    "        return input_shape"
   ]
  },
  {
   "cell_type": "markdown",
   "id": "f5ac538a",
   "metadata": {},
   "source": [
    "### 定义DarknetConv2D\n"
   ]
  },
  {
   "cell_type": "code",
   "execution_count": 16,
   "id": "ee5ebb8e",
   "metadata": {},
   "outputs": [],
   "source": [
    "@wraps(Conv2D)\n",
    "def DarknetConv2D(*args, **kwargs):\n",
    "    \"\"\"Wrapper to set Darknet parameters for Convolution2D.\"\"\"\n",
    "    \n",
    "    darknet_conv_kwargs = {'kernel_regularizer': l2(5e-4)}    \n",
    "    darknet_conv_kwargs['padding'] = 'valid' if kwargs.get('strides')==(2,2) else 'same'\n",
    "    darknet_conv_kwargs.update(kwargs)\n",
    "    return Conv2D(*args, **darknet_conv_kwargs)"
   ]
  },
  {
   "cell_type": "markdown",
   "id": "703e55e4",
   "metadata": {},
   "source": [
    "### 定义CBM 基本模块"
   ]
  },
  {
   "cell_type": "code",
   "execution_count": 17,
   "id": "fbbe190b",
   "metadata": {},
   "outputs": [],
   "source": [
    "def darknet_CBM(*args, **kwargs):\n",
    "    \"\"\"Darknet Convolution2D followed by BatchNormalization and Mish.\"\"\"\n",
    "    \n",
    "    no_bias_kwargs = {'use_bias': False}  # 没懂为啥用 no_bias\n",
    "    no_bias_kwargs.update(kwargs)\n",
    "    return compose(\n",
    "        DarknetConv2D(*args, **no_bias_kwargs),\n",
    "        BatchNormalization(),\n",
    "        Mish()\n",
    "    )"
   ]
  },
  {
   "cell_type": "markdown",
   "id": "16de6cb4",
   "metadata": {},
   "source": [
    "### 定义 CSP 结构块"
   ]
  },
  {
   "cell_type": "code",
   "execution_count": 18,
   "id": "89210080",
   "metadata": {},
   "outputs": [],
   "source": [
    "def CSP_block(x, num_filters, num_blocks, all_narrow=True):\n",
    "    # 填充x的边界为0，由(?, 416, 416, 32)转换为(?, 417, 417, 32)。\n",
    "    # 因为下一步卷积操作的步长为2，所以图的边长需要是奇数。\n",
    "    # x = ZeroPadding2D(((1, 0), (1, 0)))(x)\n",
    "    \n",
    "    # 第一个CBM对高和宽进行压缩\n",
    "    x = darknet_CBM(num_filters, (3,3), strides=(2,2))(x)  # yoloz中只有卷积层，通过调节卷积步长控制输出特征图的尺寸\n",
    "\n",
    "    # 残差\n",
    "    x_1 = darknet_CBM(num_filters//2 if all_narrow else num_filters, (1,1))(x)\n",
    "    \n",
    "    # 主干\n",
    "    x_2 = darknet_CBM(num_filters//2 if all_narrow else num_filters, (1,1))(x)\n",
    "    for i in range(num_blocks):\n",
    "        x_blocks = compose(\n",
    "                darknet_CBM(num_filters//2, (1,1)),\n",
    "                darknet_CBM(num_filters//2 if all_narrow else num_filters, (3,3)))(x_2)\n",
    "        x_2 = Add()([x_2, x_blocks])\n",
    "    x_2 = darknet_CBM(num_filters//2 if all_narrow else num_filters, (1,1))(x_2)\n",
    "    \n",
    "    # 主干、残差汇合\n",
    "    x = Concatenate()([x_2, x_1])\n",
    "    x = darknet_CBM(num_filters,(1,1))(x)\n",
    "    \n",
    "    return x"
   ]
  },
  {
   "cell_type": "markdown",
   "id": "6776e91c",
   "metadata": {},
   "source": [
    "### 定义 CSP_darknet53 主体"
   ]
  },
  {
   "cell_type": "code",
   "execution_count": 19,
   "id": "b0222717",
   "metadata": {},
   "outputs": [],
   "source": [
    "def darknet_body(x):\n",
    "    x = darknet_CBM(32, (3,3))(x)\n",
    "    x = CSP_block(x, 64, 1, False)\n",
    "    x = CSP_block(x, 128, 2)\n",
    "    \n",
    "    feat1 = CSP_block(x, 256, 8)\n",
    "    feat2 = CSP_block(feat1, 512, 8)\n",
    "    feat3 = CSP_block(feat2, 1024, 4)\n",
    "    \n",
    "    return feat1,feat2,feat3"
   ]
  },
  {
   "cell_type": "code",
   "execution_count": null,
   "id": "e923eedf",
   "metadata": {},
   "outputs": [],
   "source": [
    "def csp_darknet53(input_shape):\n",
    "    x = tf.keras.Input(shape=input_shape)  # 416\n",
    "    x = darknet_CBM(32, (3,3))(x)  # 416\n",
    "    x = CSP_block(x, 64, 1, False)  # 208\n",
    "    x = CSP_block(x, 128, 2)  # 104\n",
    "    \n",
    "    feat1 = CSP_block(x, 256, 8)  # ==>52* 52* 256\n",
    "    feat2 = CSP_block(feat1, 512, 8)  #  ==>26* 26* 512\n",
    "    feat3 = CSP_block(feat2, 1024, 4)  #  ==>13* 13* 1024\n",
    "    \n",
    "    return tf.keras.Model(inputs, [output_1, output_2, output_3], name=\"CSPDarknet53\")"
   ]
  }
 ],
 "metadata": {
  "kernelspec": {
   "display_name": "Python 3",
   "language": "python",
   "name": "python3"
  },
  "language_info": {
   "codemirror_mode": {
    "name": "ipython",
    "version": 3
   },
   "file_extension": ".py",
   "mimetype": "text/x-python",
   "name": "python",
   "nbconvert_exporter": "python",
   "pygments_lexer": "ipython3",
   "version": "3.6.9"
  }
 },
 "nbformat": 4,
 "nbformat_minor": 5
}
