{
 "cells": [
  {
   "cell_type": "code",
   "execution_count": 1,
   "id": "3d7c65fe",
   "metadata": {},
   "outputs": [],
   "source": [
    "import numpy as np"
   ]
  },
  {
   "cell_type": "code",
   "execution_count": 31,
   "id": "e9c5d165",
   "metadata": {},
   "outputs": [],
   "source": [
    "a = np.arange(19)\n",
    "b = np.arange(19)\n",
    "x,y = np.meshgrid(a,b)"
   ]
  },
  {
   "cell_type": "code",
   "execution_count": 32,
   "id": "9b6be637",
   "metadata": {},
   "outputs": [
    {
     "data": {
      "text/plain": [
       "(361, 1)"
      ]
     },
     "execution_count": 32,
     "metadata": {},
     "output_type": "execute_result"
    }
   ],
   "source": [
    "x\n",
    "x = np.reshape(x, (-1,1))\n",
    "x.shape"
   ]
  },
  {
   "cell_type": "code",
   "execution_count": 33,
   "id": "7b877996",
   "metadata": {},
   "outputs": [
    {
     "data": {
      "text/plain": [
       "(361, 1)"
      ]
     },
     "execution_count": 33,
     "metadata": {},
     "output_type": "execute_result"
    }
   ],
   "source": [
    "y\n",
    "y = np.reshape(y, (-1,1))\n",
    "y.shape"
   ]
  },
  {
   "cell_type": "code",
   "execution_count": 34,
   "id": "ea01b886",
   "metadata": {},
   "outputs": [
    {
     "data": {
      "text/plain": [
       "(361, 2)"
      ]
     },
     "execution_count": 34,
     "metadata": {},
     "output_type": "execute_result"
    }
   ],
   "source": [
    "x_y = np.concatenate((x, y), axis=1)\n",
    "x_y.shape"
   ]
  },
  {
   "cell_type": "code",
   "execution_count": 35,
   "id": "50718bf8",
   "metadata": {},
   "outputs": [
    {
     "data": {
      "text/plain": [
       "(361, 6)"
      ]
     },
     "execution_count": 35,
     "metadata": {},
     "output_type": "execute_result"
    }
   ],
   "source": [
    "x_y = np.tile(x_y, (1, 3))\n",
    "x_y.shape"
   ]
  },
  {
   "cell_type": "code",
   "execution_count": 36,
   "id": "de45ec59",
   "metadata": {},
   "outputs": [
    {
     "data": {
      "text/plain": [
       "(1083, 2)"
      ]
     },
     "execution_count": 36,
     "metadata": {},
     "output_type": "execute_result"
    }
   ],
   "source": [
    "x_y = np.reshape(x_y, (-1, 2))\n",
    "x_y.shape"
   ]
  },
  {
   "cell_type": "code",
   "execution_count": 37,
   "id": "6ed8aaa5",
   "metadata": {},
   "outputs": [
    {
     "data": {
      "text/plain": [
       "array([[[ 0,  0],\n",
       "        [ 0,  0],\n",
       "        [ 0,  0],\n",
       "        ...,\n",
       "        [18, 18],\n",
       "        [18, 18],\n",
       "        [18, 18]]])"
      ]
     },
     "execution_count": 37,
     "metadata": {},
     "output_type": "execute_result"
    }
   ],
   "source": [
    "x_y = np.expand_dims(x_y, 0)\n",
    "x_y"
   ]
  },
  {
   "cell_type": "code",
   "execution_count": 38,
   "id": "5c483ad9",
   "metadata": {},
   "outputs": [
    {
     "data": {
      "text/plain": [
       "(1, 1083, 2)"
      ]
     },
     "execution_count": 38,
     "metadata": {},
     "output_type": "execute_result"
    }
   ],
   "source": [
    "x_y.shape"
   ]
  },
  {
   "cell_type": "code",
   "execution_count": 39,
   "id": "39662604",
   "metadata": {},
   "outputs": [
    {
     "name": "stdout",
     "output_type": "stream",
     "text": [
      "Help on function tile in module numpy:\n",
      "\n",
      "tile(A, reps)\n",
      "    Construct an array by repeating A the number of times given by reps.\n",
      "    \n",
      "    If `reps` has length ``d``, the result will have dimension of\n",
      "    ``max(d, A.ndim)``.\n",
      "    \n",
      "    If ``A.ndim < d``, `A` is promoted to be d-dimensional by prepending new\n",
      "    axes. So a shape (3,) array is promoted to (1, 3) for 2-D replication,\n",
      "    or shape (1, 1, 3) for 3-D replication. If this is not the desired\n",
      "    behavior, promote `A` to d-dimensions manually before calling this\n",
      "    function.\n",
      "    \n",
      "    If ``A.ndim > d``, `reps` is promoted to `A`.ndim by pre-pending 1's to it.\n",
      "    Thus for an `A` of shape (2, 3, 4, 5), a `reps` of (2, 2) is treated as\n",
      "    (1, 1, 2, 2).\n",
      "    \n",
      "    Note : Although tile may be used for broadcasting, it is strongly\n",
      "    recommended to use numpy's broadcasting operations and functions.\n",
      "    \n",
      "    Parameters\n",
      "    ----------\n",
      "    A : array_like\n",
      "        The input array.\n",
      "    reps : array_like\n",
      "        The number of repetitions of `A` along each axis.\n",
      "    \n",
      "    Returns\n",
      "    -------\n",
      "    c : ndarray\n",
      "        The tiled output array.\n",
      "    \n",
      "    See Also\n",
      "    --------\n",
      "    repeat : Repeat elements of an array.\n",
      "    broadcast_to : Broadcast an array to a new shape\n",
      "    \n",
      "    Examples\n",
      "    --------\n",
      "    >>> a = np.array([0, 1, 2])\n",
      "    >>> np.tile(a, 2)\n",
      "    array([0, 1, 2, 0, 1, 2])\n",
      "    >>> np.tile(a, (2, 2))\n",
      "    array([[0, 1, 2, 0, 1, 2],\n",
      "           [0, 1, 2, 0, 1, 2]])\n",
      "    >>> np.tile(a, (2, 1, 2))\n",
      "    array([[[0, 1, 2, 0, 1, 2]],\n",
      "           [[0, 1, 2, 0, 1, 2]]])\n",
      "    \n",
      "    >>> b = np.array([[1, 2], [3, 4]])\n",
      "    >>> np.tile(b, 2)\n",
      "    array([[1, 2, 1, 2],\n",
      "           [3, 4, 3, 4]])\n",
      "    >>> np.tile(b, (2, 1))\n",
      "    array([[1, 2],\n",
      "           [3, 4],\n",
      "           [1, 2],\n",
      "           [3, 4]])\n",
      "    \n",
      "    >>> c = np.array([1,2,3,4])\n",
      "    >>> np.tile(c,(4,1))\n",
      "    array([[1, 2, 3, 4],\n",
      "           [1, 2, 3, 4],\n",
      "           [1, 2, 3, 4],\n",
      "           [1, 2, 3, 4]])\n",
      "\n"
     ]
    }
   ],
   "source": [
    "help(np.tile)"
   ]
  },
  {
   "cell_type": "code",
   "execution_count": 90,
   "id": "c942253c",
   "metadata": {},
   "outputs": [
    {
     "data": {
      "text/plain": [
       "(3, 5)"
      ]
     },
     "execution_count": 90,
     "metadata": {},
     "output_type": "execute_result"
    }
   ],
   "source": [
    "a = np.random.randint(1,10,size=(3,5))\n",
    "# a = np.expand_dims(a, -1)\n",
    "a.shape"
   ]
  },
  {
   "cell_type": "code",
   "execution_count": 91,
   "id": "48fd22d8",
   "metadata": {},
   "outputs": [
    {
     "data": {
      "text/plain": [
       "array([[7.74450939e-01, 1.04810537e-01, 5.21820938e-03, 2.59799347e-04,\n",
       "        3.85576419e-02],\n",
       "       [7.06207845e-04, 2.59799347e-04, 1.41845637e-02, 1.41845637e-02,\n",
       "        7.06207845e-04],\n",
       "       [5.21820938e-03, 7.06207845e-04, 1.91967195e-03, 3.85576419e-02,\n",
       "        2.59799347e-04]])"
      ]
     },
     "execution_count": 91,
     "metadata": {},
     "output_type": "execute_result"
    }
   ],
   "source": [
    "from scipy.special import expit, softmax\n",
    "\n",
    "class_scores = softmax(a)\n",
    "class_scores"
   ]
  },
  {
   "cell_type": "code",
   "execution_count": 92,
   "id": "35bab02d",
   "metadata": {},
   "outputs": [
    {
     "data": {
      "text/plain": [
       "array([[0.99987661, 0.99908895, 0.98201379, 0.73105858, 0.99752738],\n",
       "       [0.88079708, 0.73105858, 0.99330715, 0.99330715, 0.88079708],\n",
       "       [0.98201379, 0.88079708, 0.95257413, 0.99752738, 0.73105858]])"
      ]
     },
     "execution_count": 92,
     "metadata": {},
     "output_type": "execute_result"
    }
   ],
   "source": [
    "class_scores = expit(a)\n",
    "class_scores"
   ]
  },
  {
   "cell_type": "code",
   "execution_count": 93,
   "id": "4ceaa24f",
   "metadata": {},
   "outputs": [
    {
     "data": {
      "text/plain": [
       "array([0.99987661, 0.99330715, 0.99752738])"
      ]
     },
     "execution_count": 93,
     "metadata": {},
     "output_type": "execute_result"
    }
   ],
   "source": [
    "aa = np.max(class_scores, axis=-1)\n",
    "aa"
   ]
  },
  {
   "cell_type": "code",
   "execution_count": 97,
   "id": "c5719b73",
   "metadata": {},
   "outputs": [
    {
     "data": {
      "text/plain": [
       "array([0, 2, 3])"
      ]
     },
     "execution_count": 97,
     "metadata": {},
     "output_type": "execute_result"
    }
   ],
   "source": [
    "box_classes = np.argmax(class_scores, axis=-1)\n",
    "box_classes"
   ]
  },
  {
   "cell_type": "code",
   "execution_count": 95,
   "id": "f6a4a6ab",
   "metadata": {},
   "outputs": [
    {
     "data": {
      "text/plain": [
       "(array([0, 1, 2]),)"
      ]
     },
     "execution_count": 95,
     "metadata": {},
     "output_type": "execute_result"
    }
   ],
   "source": [
    "b = np.where(aa>=0.1)\n",
    "b"
   ]
  },
  {
   "cell_type": "code",
   "execution_count": 98,
   "id": "b78331b3",
   "metadata": {},
   "outputs": [
    {
     "data": {
      "text/plain": [
       "array([0, 2, 3])"
      ]
     },
     "execution_count": 98,
     "metadata": {},
     "output_type": "execute_result"
    }
   ],
   "source": [
    "box_classes[b]"
   ]
  },
  {
   "cell_type": "code",
   "execution_count": 107,
   "id": "e0bb58be",
   "metadata": {},
   "outputs": [
    {
     "data": {
      "text/plain": [
       "(16, 768, 1)"
      ]
     },
     "execution_count": 107,
     "metadata": {},
     "output_type": "execute_result"
    }
   ],
   "source": [
    "a = np.random.randint(1,10,size=(16,16*16*3,1))\n",
    "a.shape"
   ]
  },
  {
   "cell_type": "code",
   "execution_count": 108,
   "id": "68e0ec5b",
   "metadata": {},
   "outputs": [
    {
     "data": {
      "text/plain": [
       "(16, 768, 80)"
      ]
     },
     "execution_count": 108,
     "metadata": {},
     "output_type": "execute_result"
    }
   ],
   "source": [
    "b = np.random.randint(1,10,size=(16,16*16*3,80))\n",
    "b.shape"
   ]
  },
  {
   "cell_type": "code",
   "execution_count": 109,
   "id": "914c55a0",
   "metadata": {},
   "outputs": [
    {
     "data": {
      "text/plain": [
       "(16, 768, 80)"
      ]
     },
     "execution_count": 109,
     "metadata": {},
     "output_type": "execute_result"
    }
   ],
   "source": [
    "c = a*b\n",
    "c.shape"
   ]
  },
  {
   "cell_type": "code",
   "execution_count": 111,
   "id": "f6dc72fe",
   "metadata": {},
   "outputs": [
    {
     "data": {
      "text/plain": [
       "(16, 768)"
      ]
     },
     "execution_count": 111,
     "metadata": {},
     "output_type": "execute_result"
    }
   ],
   "source": [
    "d = np.argmax(c ,axis=-1)\n",
    "d.shape"
   ]
  },
  {
   "cell_type": "code",
   "execution_count": 146,
   "id": "e4dc2242",
   "metadata": {},
   "outputs": [
    {
     "data": {
      "text/plain": [
       "(16, 768)"
      ]
     },
     "execution_count": 146,
     "metadata": {},
     "output_type": "execute_result"
    }
   ],
   "source": [
    "e = np.max(c ,axis=-1)\n",
    "e.shape"
   ]
  },
  {
   "cell_type": "code",
   "execution_count": 135,
   "id": "3fdc4631",
   "metadata": {},
   "outputs": [
    {
     "data": {
      "text/plain": [
       "2704"
      ]
     },
     "execution_count": 135,
     "metadata": {},
     "output_type": "execute_result"
    }
   ],
   "source": [
    "f =  np.where(e>66)\n",
    "len(f[0])"
   ]
  },
  {
   "cell_type": "code",
   "execution_count": 158,
   "id": "e094d696",
   "metadata": {},
   "outputs": [
    {
     "data": {
      "text/plain": [
       "2704"
      ]
     },
     "execution_count": 158,
     "metadata": {},
     "output_type": "execute_result"
    }
   ],
   "source": [
    "g = b[f]\n",
    "len(g)"
   ]
  },
  {
   "cell_type": "code",
   "execution_count": 156,
   "id": "20648bdb",
   "metadata": {},
   "outputs": [
    {
     "ename": "IndexError",
     "evalue": "tuple index out of range",
     "output_type": "error",
     "traceback": [
      "\u001b[0;31m---------------------------------------------------------------------------\u001b[0m",
      "\u001b[0;31mIndexError\u001b[0m                                Traceback (most recent call last)",
      "\u001b[0;32m<ipython-input-156-67b568ace195>\u001b[0m in \u001b[0;36m<module>\u001b[0;34m()\u001b[0m\n\u001b[0;32m----> 1\u001b[0;31m \u001b[0mf\u001b[0m\u001b[0;34m[\u001b[0m\u001b[0;36m3\u001b[0m\u001b[0;34m]\u001b[0m\u001b[0;34m[\u001b[0m\u001b[0;36m3\u001b[0m\u001b[0;34m]\u001b[0m\u001b[0;34m\u001b[0m\u001b[0;34m\u001b[0m\u001b[0m\n\u001b[0m",
      "\u001b[0;31mIndexError\u001b[0m: tuple index out of range"
     ]
    }
   ],
   "source": [
    "f[3][3]"
   ]
  },
  {
   "cell_type": "code",
   "execution_count": 159,
   "id": "36fd0bb6",
   "metadata": {},
   "outputs": [
    {
     "data": {
      "text/plain": [
       "(2704, 80)"
      ]
     },
     "execution_count": 159,
     "metadata": {},
     "output_type": "execute_result"
    }
   ],
   "source": [
    "g.shape"
   ]
  },
  {
   "cell_type": "code",
   "execution_count": 157,
   "id": "aa8188af",
   "metadata": {},
   "outputs": [
    {
     "data": {
      "text/plain": [
       "(2704,)"
      ]
     },
     "execution_count": 157,
     "metadata": {},
     "output_type": "execute_result"
    }
   ],
   "source": [
    "h = d[f]\n",
    "h.shape"
   ]
  },
  {
   "cell_type": "code",
   "execution_count": 165,
   "id": "90b063cd",
   "metadata": {},
   "outputs": [
    {
     "data": {
      "text/plain": [
       "(2704,)"
      ]
     },
     "execution_count": 165,
     "metadata": {},
     "output_type": "execute_result"
    }
   ],
   "source": [
    "i= e[f]\n",
    "i.shape"
   ]
  },
  {
   "cell_type": "code",
   "execution_count": 168,
   "id": "2430d99f",
   "metadata": {},
   "outputs": [
    {
     "data": {
      "text/plain": [
       "(2704, 80)"
      ]
     },
     "execution_count": 168,
     "metadata": {},
     "output_type": "execute_result"
    }
   ],
   "source": [
    "j = c[f]\n",
    "j.shape"
   ]
  },
  {
   "cell_type": "code",
   "execution_count": 153,
   "id": "3fb0620d",
   "metadata": {},
   "outputs": [
    {
     "data": {
      "text/plain": [
       "(array([   0,   14,   21,   52,   64,   71,   83,   86,   94,  117,  144,\n",
       "         146,  154,  181,  201,  261,  276,  293,  299,  301,  313,  315,\n",
       "         342,  345,  359,  371,  386,  392,  395,  403,  417,  436,  442,\n",
       "         493,  503,  504,  517,  531,  539,  550,  571,  575,  584,  591,\n",
       "         610,  613,  616,  617,  638,  663,  673,  674,  678,  683,  688,\n",
       "         708,  742,  746,  749,  788,  789,  819,  826,  834,  842,  861,\n",
       "         876,  921,  952,  956,  962,  965,  975,  977,  984,  985,  986,\n",
       "        1004, 1017, 1018, 1022, 1027, 1040, 1044, 1050, 1052, 1053, 1060,\n",
       "        1120, 1135, 1136, 1138, 1140, 1156, 1159, 1161, 1171, 1194, 1197,\n",
       "        1205, 1240, 1248, 1307, 1324, 1337, 1341, 1347, 1349, 1362, 1363,\n",
       "        1369, 1379, 1382, 1395, 1465, 1479, 1487, 1534, 1535, 1564, 1574,\n",
       "        1576, 1590, 1602, 1603, 1605, 1609, 1612, 1618, 1619, 1623, 1656,\n",
       "        1658, 1674, 1686, 1690, 1732, 1762, 1765, 1766, 1772, 1779, 1780,\n",
       "        1794, 1800, 1813, 1819, 1827, 1837, 1845, 1857, 1861, 1874, 1875,\n",
       "        1891, 1897, 1915, 1917, 1937, 1962, 1967, 1969, 1975, 1981, 1989,\n",
       "        1997, 2012, 2014, 2026, 2064, 2109, 2122, 2128, 2142, 2148, 2170,\n",
       "        2182, 2183, 2212, 2213, 2221, 2229, 2250, 2303, 2307, 2318, 2323,\n",
       "        2329, 2330, 2335, 2354, 2360, 2372, 2380, 2383, 2427, 2433, 2470,\n",
       "        2471, 2491, 2501, 2504, 2507, 2515, 2522, 2530, 2535, 2539, 2554,\n",
       "        2556, 2576, 2578, 2592, 2602, 2625, 2674, 2677, 2694]),)"
      ]
     },
     "execution_count": 153,
     "metadata": {},
     "output_type": "execute_result"
    }
   ],
   "source": [
    "inds = np.where(h==3)\n",
    "inds"
   ]
  },
  {
   "cell_type": "code",
   "execution_count": 169,
   "id": "644575f1",
   "metadata": {},
   "outputs": [
    {
     "data": {
      "text/plain": [
       "(218,)"
      ]
     },
     "execution_count": 169,
     "metadata": {},
     "output_type": "execute_result"
    }
   ],
   "source": [
    "clas = h[inds]\n",
    "scores = i[inds]\n",
    "scores.shape"
   ]
  },
  {
   "cell_type": "code",
   "execution_count": null,
   "id": "300b68d9",
   "metadata": {},
   "outputs": [],
   "source": []
  }
 ],
 "metadata": {
  "kernelspec": {
   "display_name": "Python 3",
   "language": "python",
   "name": "python3"
  },
  "language_info": {
   "codemirror_mode": {
    "name": "ipython",
    "version": 3
   },
   "file_extension": ".py",
   "mimetype": "text/x-python",
   "name": "python",
   "nbconvert_exporter": "python",
   "pygments_lexer": "ipython3",
   "version": "3.6.9"
  }
 },
 "nbformat": 4,
 "nbformat_minor": 5
}
