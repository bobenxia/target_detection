{
 "cells": [
  {
   "cell_type": "code",
   "execution_count": 1,
   "id": "42a26fbe",
   "metadata": {},
   "outputs": [],
   "source": [
    "from tensorflow.keras.layers import Input, Lambda\n",
    "from tensorflow.keras.models import Model\n",
    "from tensorflow.keras.optimizers import Adam"
   ]
  },
  {
   "cell_type": "code",
   "execution_count": null,
   "id": "17c296d6",
   "metadata": {},
   "outputs": [],
   "source": [
    "def get_yolo3_model(model_type, num_feature_layers, num_anchors, num_classes,\n",
    "                   input_tensor=None, input_shape=None):\n",
    "    # prepare input tensor\n",
    "    if input_shape:\n",
    "        input_tensor = Input(shape=input_shape, name='image_input')\n",
    "        \n",
    "    if input_tensor is None:\n",
    "        input_tensor = Input(shape=(None, None, 3), name='image_input')\n",
    "        \n",
    "    model_function = yolo4_body\n",
    "    backbone_len = 250\n",
    "    weights_path = 'weights/cspdarknet53.h5'\n",
    "    \n",
    "    if weights_path:\n",
    "        model_body = yolo4_body(input_tensor, num_anchors//3, num_classes, weights_path=weights_path)\n",
    "    \n",
    "    "
   ]
  },
  {
   "cell_type": "code",
   "execution_count": null,
   "id": "12eb1efb",
   "metadata": {},
   "outputs": [],
   "source": [
    "def get_yolo3_inference_model(model_type, anchors, num_classes, weights_path=None,\n",
    "                              input_shape=None, confidence=0.1, iou_threshold=0.4, elim_grid_sense=False):\n",
    "    \"\"\"create the inference model, for YOLOv3\"\"\"\n",
    "    num_anchors = len(anchors)\n",
    "    num_feature_layers = num_anchors //3\n",
    "    \n",
    "    image_shape = Input(shape=(2,), dtype='int64', name='image_shape')\n",
    "    # TODO: get_yolo3_mode\n",
    "    model_body, _ = get_yolo3_model(model_type, num_feature_layers, num_anchors, num_classes, input_shape=input_shape)\n",
    "    \n",
    "    if weights_path:\n",
    "        model_body.load_weights(weights_path, by_name=False)\n",
    "        print('Load weight {}'.format(weights_path))\n",
    "        \n",
    "    # TODO: batch_yolo_postprocess\n",
    "    boxes, scores, classes = Lambda(batch_yolo_postprocess, name='yolo3_postprocess',\n",
    "                                    arguments={\n",
    "                                        'anchors':anchors, \n",
    "                                        'num_classes':num_classes, \n",
    "                                        'confidence':confidence,\n",
    "                                        'iou_threshold': iou_threshold,\n",
    "                                        'elim_grid_sense':elim_grid_sense\n",
    "                                    })([*model_body.output, image_shape])\n",
    "    model = Model([model_body.input, image_shape], [boxes, scores, classes])\n",
    "    \n",
    "    return model\n",
    "    \n",
    "                                        "
   ]
  }
 ],
 "metadata": {
  "kernelspec": {
   "display_name": "Python 3",
   "language": "python",
   "name": "python3"
  },
  "language_info": {
   "codemirror_mode": {
    "name": "ipython",
    "version": 3
   },
   "file_extension": ".py",
   "mimetype": "text/x-python",
   "name": "python",
   "nbconvert_exporter": "python",
   "pygments_lexer": "ipython3",
   "version": "3.6.9"
  }
 },
 "nbformat": 4,
 "nbformat_minor": 5
}
